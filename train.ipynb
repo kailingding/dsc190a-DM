{
 "cells": [
  {
   "cell_type": "code",
   "execution_count": 401,
   "metadata": {},
   "outputs": [],
   "source": [
    "import pandas as pd\n",
    "import numpy as np\n",
    "%matplotlib inline\n",
    "import matplotlib.pyplot as plt\n",
    "import datetime\n",
    "import seaborn as sns\n",
    "import re\n",
    "from langdetect import detect\n",
    "from datetime import datetime"
   ]
  },
  {
   "cell_type": "code",
   "execution_count": 402,
   "metadata": {},
   "outputs": [],
   "source": [
    "# import sklearn modules\n",
    "from sklearn.model_selection import train_test_split, RandomizedSearchCV, GridSearchCV\n",
    "from sklearn.preprocessing import OneHotEncoder, MinMaxScaler, StandardScaler, FunctionTransformer\n",
    "from sklearn.pipeline import Pipeline\n",
    "from sklearn.base import BaseEstimator, TransformerMixin\n",
    "from sklearn.compose import ColumnTransformer\n",
    "from sklearn.impute import SimpleImputer\n",
    "from sklearn.decomposition import PCA,TruncatedSVD\n",
    "from sklearn.linear_model import Ridge, LogisticRegression, Lasso,ElasticNet\n",
    "from sklearn.svm import LinearSVC\n",
    "from sklearn.feature_selection import SelectFromModel\n",
    "from sklearn.ensemble import RandomForestRegressor, StackingRegressor\n",
    "from sklearn.neighbors import KNeighborsRegressor\n",
    "from sklearn.svm import SVR\n",
    "from sklearn.metrics import mean_squared_error, r2_score\n",
    "from sklearn.feature_extraction.text import CountVectorizer, TfidfVectorizer"
   ]
  },
  {
   "cell_type": "code",
   "execution_count": 403,
   "metadata": {},
   "outputs": [],
   "source": [
    "# import scipy modules\n",
    "from scipy.stats import randint\n",
    "from scipy.stats import uniform\n",
    "import joblib\n",
    "from IPython.display import SVG"
   ]
  },
  {
   "cell_type": "code",
   "execution_count": 404,
   "metadata": {},
   "outputs": [],
   "source": [
    "# utils function\n",
    "def rmse(y_true, y_pred):\n",
    "    return np.sqrt(mean_squared_error(y_true, y_pred))\n",
    "def save_model(model, name):\n",
    "    fp = './models/'+name+'.pkl'\n",
    "    joblib.dump(model, fp)"
   ]
  },
  {
   "cell_type": "code",
   "execution_count": 405,
   "metadata": {},
   "outputs": [],
   "source": [
    "# import gradient boosting models\n",
    "import lightgbm\n",
    "from lightgbm import LGBMRegressor\n",
    "from xgboost import XGBRegressor"
   ]
  },
  {
   "cell_type": "code",
   "execution_count": 255,
   "metadata": {},
   "outputs": [
    {
     "name": "stdout",
     "output_type": "stream",
     "text": [
      "Checking whether there is an H2O instance running at http://localhost:54321 ..... not found.\n",
      "Attempting to start a local H2O server...\n",
      "  Java Version: java version \"1.8.0_201\"; Java(TM) SE Runtime Environment (build 1.8.0_201-b09); Java HotSpot(TM) 64-Bit Server VM (build 25.201-b09, mixed mode)\n",
      "  Starting server from /Library/Frameworks/Python.framework/Versions/3.8/lib/python3.8/site-packages/h2o/backend/bin/h2o.jar\n",
      "  Ice root: /var/folders/kk/5t867d615mxd22hwz9rjn9mm0000gn/T/tmpr80_h5ho\n",
      "  JVM stdout: /var/folders/kk/5t867d615mxd22hwz9rjn9mm0000gn/T/tmpr80_h5ho/h2o_kailing_started_from_python.out\n",
      "  JVM stderr: /var/folders/kk/5t867d615mxd22hwz9rjn9mm0000gn/T/tmpr80_h5ho/h2o_kailing_started_from_python.err\n",
      "  Server is running at http://127.0.0.1:54321\n",
      "Connecting to H2O server at http://127.0.0.1:54321 ... successful.\n"
     ]
    },
    {
     "data": {
      "text/html": [
       "<div style=\"overflow:auto\"><table style=\"width:50%\"><tr><td>H2O_cluster_uptime:</td>\n",
       "<td>02 secs</td></tr>\n",
       "<tr><td>H2O_cluster_timezone:</td>\n",
       "<td>America/Los_Angeles</td></tr>\n",
       "<tr><td>H2O_data_parsing_timezone:</td>\n",
       "<td>UTC</td></tr>\n",
       "<tr><td>H2O_cluster_version:</td>\n",
       "<td>3.30.0.3</td></tr>\n",
       "<tr><td>H2O_cluster_version_age:</td>\n",
       "<td>2 days </td></tr>\n",
       "<tr><td>H2O_cluster_name:</td>\n",
       "<td>H2O_from_python_kailing_raid7k</td></tr>\n",
       "<tr><td>H2O_cluster_total_nodes:</td>\n",
       "<td>1</td></tr>\n",
       "<tr><td>H2O_cluster_free_memory:</td>\n",
       "<td>1.778 Gb</td></tr>\n",
       "<tr><td>H2O_cluster_total_cores:</td>\n",
       "<td>8</td></tr>\n",
       "<tr><td>H2O_cluster_allowed_cores:</td>\n",
       "<td>8</td></tr>\n",
       "<tr><td>H2O_cluster_status:</td>\n",
       "<td>accepting new members, healthy</td></tr>\n",
       "<tr><td>H2O_connection_url:</td>\n",
       "<td>http://127.0.0.1:54321</td></tr>\n",
       "<tr><td>H2O_connection_proxy:</td>\n",
       "<td>{\"http\": null, \"https\": null}</td></tr>\n",
       "<tr><td>H2O_internal_security:</td>\n",
       "<td>False</td></tr>\n",
       "<tr><td>H2O_API_Extensions:</td>\n",
       "<td>Amazon S3, XGBoost, Algos, AutoML, Core V3, TargetEncoder, Core V4</td></tr>\n",
       "<tr><td>Python_version:</td>\n",
       "<td>3.8.2 final</td></tr></table></div>"
      ],
      "text/plain": [
       "--------------------------  ------------------------------------------------------------------\n",
       "H2O_cluster_uptime:         02 secs\n",
       "H2O_cluster_timezone:       America/Los_Angeles\n",
       "H2O_data_parsing_timezone:  UTC\n",
       "H2O_cluster_version:        3.30.0.3\n",
       "H2O_cluster_version_age:    2 days\n",
       "H2O_cluster_name:           H2O_from_python_kailing_raid7k\n",
       "H2O_cluster_total_nodes:    1\n",
       "H2O_cluster_free_memory:    1.778 Gb\n",
       "H2O_cluster_total_cores:    8\n",
       "H2O_cluster_allowed_cores:  8\n",
       "H2O_cluster_status:         accepting new members, healthy\n",
       "H2O_connection_url:         http://127.0.0.1:54321\n",
       "H2O_connection_proxy:       {\"http\": null, \"https\": null}\n",
       "H2O_internal_security:      False\n",
       "H2O_API_Extensions:         Amazon S3, XGBoost, Algos, AutoML, Core V3, TargetEncoder, Core V4\n",
       "Python_version:             3.8.2 final\n",
       "--------------------------  ------------------------------------------------------------------"
      ]
     },
     "metadata": {},
     "output_type": "display_data"
    }
   ],
   "source": [
    "# H2O automl\n",
    "import h2o\n",
    "from h2o.automl import H2OAutoML\n",
    "h2o.init()"
   ]
  },
  {
   "cell_type": "code",
   "execution_count": 406,
   "metadata": {},
   "outputs": [],
   "source": [
    "# neural nets\n",
    "from keras import models, layers, optimizers, regularizers, Sequential\n",
    "from keras.layers import Dense\n",
    "from keras.wrappers.scikit_learn import KerasRegressor\n",
    "from keras.utils.vis_utils import model_to_dot\n",
    "from livelossplot.keras import PlotLossesCallback"
   ]
  },
  {
   "cell_type": "code",
   "execution_count": 647,
   "metadata": {},
   "outputs": [
    {
     "data": {
      "text/html": [
       "<div>\n",
       "<style scoped>\n",
       "    .dataframe tbody tr th:only-of-type {\n",
       "        vertical-align: middle;\n",
       "    }\n",
       "\n",
       "    .dataframe tbody tr th {\n",
       "        vertical-align: top;\n",
       "    }\n",
       "\n",
       "    .dataframe thead th {\n",
       "        text-align: right;\n",
       "    }\n",
       "</style>\n",
       "<table border=\"1\" class=\"dataframe\">\n",
       "  <thead>\n",
       "    <tr style=\"text-align: right;\">\n",
       "      <th></th>\n",
       "      <th>id</th>\n",
       "      <th>name</th>\n",
       "      <th>summary</th>\n",
       "      <th>space</th>\n",
       "      <th>description</th>\n",
       "      <th>experiences_offered</th>\n",
       "      <th>neighborhood_overview</th>\n",
       "      <th>notes</th>\n",
       "      <th>transit</th>\n",
       "      <th>access</th>\n",
       "      <th>...</th>\n",
       "      <th>review_scores_communication</th>\n",
       "      <th>review_scores_location</th>\n",
       "      <th>review_scores_value</th>\n",
       "      <th>instant_bookable</th>\n",
       "      <th>is_business_travel_ready</th>\n",
       "      <th>cancellation_policy</th>\n",
       "      <th>require_guest_profile_picture</th>\n",
       "      <th>require_guest_phone_verification</th>\n",
       "      <th>calculated_host_listings_count</th>\n",
       "      <th>reviews_per_month</th>\n",
       "    </tr>\n",
       "  </thead>\n",
       "  <tbody>\n",
       "    <tr>\n",
       "      <th>0</th>\n",
       "      <td>22267382</td>\n",
       "      <td>Modern and Cozy Large Studio in Brooklyn</td>\n",
       "      <td>Modern large studio with new amenities and app...</td>\n",
       "      <td>Our place is a little quiet sanctuary in the h...</td>\n",
       "      <td>Modern large studio with new amenities and app...</td>\n",
       "      <td>none</td>\n",
       "      <td>BAM, Barclays, Brooklyn City Point, Fort Green...</td>\n",
       "      <td>NaN</td>\n",
       "      <td>Subway: 2,3,4,5,A,C,B,Q,G</td>\n",
       "      <td>Washer/Dryer Dishwasher Internet Gym Roof Top ...</td>\n",
       "      <td>...</td>\n",
       "      <td>10.0</td>\n",
       "      <td>10.0</td>\n",
       "      <td>10.0</td>\n",
       "      <td>t</td>\n",
       "      <td>f</td>\n",
       "      <td>flexible</td>\n",
       "      <td>f</td>\n",
       "      <td>f</td>\n",
       "      <td>1</td>\n",
       "      <td>0.59</td>\n",
       "    </tr>\n",
       "    <tr>\n",
       "      <th>1</th>\n",
       "      <td>2473861</td>\n",
       "      <td>Royal Harlem TRIPLEX Home 5 Beds</td>\n",
       "      <td>Harlem is back and so gorgeous! Visit and expl...</td>\n",
       "      <td>Harlem is back and so gorgeous! Visit and expl...</td>\n",
       "      <td>Harlem is back and so gorgeous! Visit and expl...</td>\n",
       "      <td>none</td>\n",
       "      <td>HARLEM is a piece of real NY history overflowi...</td>\n",
       "      <td>HARLEM RESTAURANTS Red Rooster Harlem -- excel...</td>\n",
       "      <td>PUBLIC TRANSPORTATION: Conveniently near all p...</td>\n",
       "      <td>The WHOLE ENTIRE HOUSE</td>\n",
       "      <td>...</td>\n",
       "      <td>9.0</td>\n",
       "      <td>9.0</td>\n",
       "      <td>9.0</td>\n",
       "      <td>t</td>\n",
       "      <td>f</td>\n",
       "      <td>moderate</td>\n",
       "      <td>f</td>\n",
       "      <td>f</td>\n",
       "      <td>3</td>\n",
       "      <td>2.47</td>\n",
       "    </tr>\n",
       "    <tr>\n",
       "      <th>2</th>\n",
       "      <td>25079703</td>\n",
       "      <td>Sunny East Village Studio</td>\n",
       "      <td>Clean, hip and well designed sun drenched East...</td>\n",
       "      <td>This is a rare East Village studio with it's h...</td>\n",
       "      <td>Clean, hip and well designed sun drenched East...</td>\n",
       "      <td>none</td>\n",
       "      <td>East Village is one of the last remaining neig...</td>\n",
       "      <td>NaN</td>\n",
       "      <td>NaN</td>\n",
       "      <td>You'll have access to the entire space - it's ...</td>\n",
       "      <td>...</td>\n",
       "      <td>10.0</td>\n",
       "      <td>10.0</td>\n",
       "      <td>10.0</td>\n",
       "      <td>f</td>\n",
       "      <td>f</td>\n",
       "      <td>moderate</td>\n",
       "      <td>f</td>\n",
       "      <td>f</td>\n",
       "      <td>1</td>\n",
       "      <td>0.89</td>\n",
       "    </tr>\n",
       "    <tr>\n",
       "      <th>3</th>\n",
       "      <td>9342478</td>\n",
       "      <td>Beautiful, airy, light-filled room</td>\n",
       "      <td>Private, spacious, comfortable room in 2-bed f...</td>\n",
       "      <td>Big closet, two big windows, tall ceiling and ...</td>\n",
       "      <td>Private, spacious, comfortable room in 2-bed f...</td>\n",
       "      <td>none</td>\n",
       "      <td>One block from Morgan L stop. Super cool area....</td>\n",
       "      <td>NaN</td>\n",
       "      <td>NaN</td>\n",
       "      <td>NaN</td>\n",
       "      <td>...</td>\n",
       "      <td>NaN</td>\n",
       "      <td>NaN</td>\n",
       "      <td>NaN</td>\n",
       "      <td>f</td>\n",
       "      <td>f</td>\n",
       "      <td>flexible</td>\n",
       "      <td>f</td>\n",
       "      <td>f</td>\n",
       "      <td>1</td>\n",
       "      <td>NaN</td>\n",
       "    </tr>\n",
       "    <tr>\n",
       "      <th>4</th>\n",
       "      <td>4866426</td>\n",
       "      <td>Private Room in Prime Brooklyn Spot</td>\n",
       "      <td>Comfy, quiet and big private room in a three b...</td>\n",
       "      <td>This big old apartment that we love and take c...</td>\n",
       "      <td>Comfy, quiet and big private room in a three b...</td>\n",
       "      <td>none</td>\n",
       "      <td>I absolutely love this neighborhood - right at...</td>\n",
       "      <td>Just a note about the space: The window in you...</td>\n",
       "      <td>Super convenient to almost all subway lines. A...</td>\n",
       "      <td>Your room has a very comfortable queen sized b...</td>\n",
       "      <td>...</td>\n",
       "      <td>10.0</td>\n",
       "      <td>10.0</td>\n",
       "      <td>10.0</td>\n",
       "      <td>f</td>\n",
       "      <td>f</td>\n",
       "      <td>flexible</td>\n",
       "      <td>f</td>\n",
       "      <td>f</td>\n",
       "      <td>1</td>\n",
       "      <td>3.14</td>\n",
       "    </tr>\n",
       "  </tbody>\n",
       "</table>\n",
       "<p>5 rows × 65 columns</p>\n",
       "</div>"
      ],
      "text/plain": [
       "         id                                      name  \\\n",
       "0  22267382  Modern and Cozy Large Studio in Brooklyn   \n",
       "1   2473861          Royal Harlem TRIPLEX Home 5 Beds   \n",
       "2  25079703                 Sunny East Village Studio   \n",
       "3   9342478        Beautiful, airy, light-filled room   \n",
       "4   4866426       Private Room in Prime Brooklyn Spot   \n",
       "\n",
       "                                             summary  \\\n",
       "0  Modern large studio with new amenities and app...   \n",
       "1  Harlem is back and so gorgeous! Visit and expl...   \n",
       "2  Clean, hip and well designed sun drenched East...   \n",
       "3  Private, spacious, comfortable room in 2-bed f...   \n",
       "4  Comfy, quiet and big private room in a three b...   \n",
       "\n",
       "                                               space  \\\n",
       "0  Our place is a little quiet sanctuary in the h...   \n",
       "1  Harlem is back and so gorgeous! Visit and expl...   \n",
       "2  This is a rare East Village studio with it's h...   \n",
       "3  Big closet, two big windows, tall ceiling and ...   \n",
       "4  This big old apartment that we love and take c...   \n",
       "\n",
       "                                         description experiences_offered  \\\n",
       "0  Modern large studio with new amenities and app...                none   \n",
       "1  Harlem is back and so gorgeous! Visit and expl...                none   \n",
       "2  Clean, hip and well designed sun drenched East...                none   \n",
       "3  Private, spacious, comfortable room in 2-bed f...                none   \n",
       "4  Comfy, quiet and big private room in a three b...                none   \n",
       "\n",
       "                               neighborhood_overview  \\\n",
       "0  BAM, Barclays, Brooklyn City Point, Fort Green...   \n",
       "1  HARLEM is a piece of real NY history overflowi...   \n",
       "2  East Village is one of the last remaining neig...   \n",
       "3  One block from Morgan L stop. Super cool area....   \n",
       "4  I absolutely love this neighborhood - right at...   \n",
       "\n",
       "                                               notes  \\\n",
       "0                                                NaN   \n",
       "1  HARLEM RESTAURANTS Red Rooster Harlem -- excel...   \n",
       "2                                                NaN   \n",
       "3                                                NaN   \n",
       "4  Just a note about the space: The window in you...   \n",
       "\n",
       "                                             transit  \\\n",
       "0                          Subway: 2,3,4,5,A,C,B,Q,G   \n",
       "1  PUBLIC TRANSPORTATION: Conveniently near all p...   \n",
       "2                                                NaN   \n",
       "3                                                NaN   \n",
       "4  Super convenient to almost all subway lines. A...   \n",
       "\n",
       "                                              access  ...  \\\n",
       "0  Washer/Dryer Dishwasher Internet Gym Roof Top ...  ...   \n",
       "1                             The WHOLE ENTIRE HOUSE  ...   \n",
       "2  You'll have access to the entire space - it's ...  ...   \n",
       "3                                                NaN  ...   \n",
       "4  Your room has a very comfortable queen sized b...  ...   \n",
       "\n",
       "  review_scores_communication review_scores_location  review_scores_value  \\\n",
       "0                        10.0                   10.0                 10.0   \n",
       "1                         9.0                    9.0                  9.0   \n",
       "2                        10.0                   10.0                 10.0   \n",
       "3                         NaN                    NaN                  NaN   \n",
       "4                        10.0                   10.0                 10.0   \n",
       "\n",
       "  instant_bookable is_business_travel_ready cancellation_policy  \\\n",
       "0                t                        f            flexible   \n",
       "1                t                        f            moderate   \n",
       "2                f                        f            moderate   \n",
       "3                f                        f            flexible   \n",
       "4                f                        f            flexible   \n",
       "\n",
       "  require_guest_profile_picture require_guest_phone_verification  \\\n",
       "0                             f                                f   \n",
       "1                             f                                f   \n",
       "2                             f                                f   \n",
       "3                             f                                f   \n",
       "4                             f                                f   \n",
       "\n",
       "  calculated_host_listings_count  reviews_per_month  \n",
       "0                              1               0.59  \n",
       "1                              3               2.47  \n",
       "2                              1               0.89  \n",
       "3                              1                NaN  \n",
       "4                              1               3.14  \n",
       "\n",
       "[5 rows x 65 columns]"
      ]
     },
     "execution_count": 647,
     "metadata": {},
     "output_type": "execute_result"
    }
   ],
   "source": [
    "# import data\n",
    "_date_cols = ['host_since', 'first_review', 'last_review']\n",
    "df = pd.read_csv('./data/train.csv', low_memory=False, parse_dates=_date_cols)\n",
    "test_df = pd.read_csv('./data/test.csv', low_memory=False, parse_dates=_date_cols)\n",
    "df.head()"
   ]
  },
  {
   "cell_type": "code",
   "execution_count": 648,
   "metadata": {},
   "outputs": [],
   "source": [
    "def pre_drop_cols(df):\n",
    "    useless_col = [\n",
    "        'experiences_offered', 'host_acceptance_rate',\n",
    "        'is_business_travel_ready', \"square_feet\", 'country_code'\n",
    "    ]\n",
    "    unique_id = ['id', 'host_id', 'name', 'host_name']\n",
    "    df.drop(useless_col + unique_id, axis=1, inplace=True)\n",
    "    \n",
    "    return df\n",
    "\n",
    "df = pre_drop_cols(df)\n",
    "test_df = pre_drop_cols(test_df)"
   ]
  },
  {
   "cell_type": "code",
   "execution_count": 409,
   "metadata": {},
   "outputs": [
    {
     "data": {
      "text/plain": [
       "host_listings_count               0.066808\n",
       "accommodates                      0.513268\n",
       "bathrooms                         0.293762\n",
       "bedrooms                          0.381478\n",
       "beds                              0.408146\n",
       "price                             1.000000\n",
       "guests_included                   0.302961\n",
       "minimum_nights                    0.019503\n",
       "maximum_nights                   -0.000608\n",
       "number_of_reviews                -0.032250\n",
       "review_scores_rating              0.049288\n",
       "review_scores_accuracy            0.006649\n",
       "review_scores_cleanliness         0.061048\n",
       "review_scores_checkin            -0.006680\n",
       "review_scores_communication       0.001658\n",
       "review_scores_location            0.146426\n",
       "review_scores_value              -0.031823\n",
       "calculated_host_listings_count    0.078186\n",
       "reviews_per_month                -0.023037\n",
       "latitude                          0.050422\n",
       "longitude                        -0.230645\n",
       "Name: price, dtype: float64"
      ]
     },
     "execution_count": 409,
     "metadata": {},
     "output_type": "execute_result"
    }
   ],
   "source": [
    "df.corr()['price']"
   ]
  },
  {
   "cell_type": "markdown",
   "metadata": {},
   "source": [
    "# EDA"
   ]
  },
  {
   "cell_type": "markdown",
   "metadata": {},
   "source": [
    "## feature type"
   ]
  },
  {
   "cell_type": "code",
   "execution_count": 55,
   "metadata": {},
   "outputs": [],
   "source": [
    "\n",
    "# for col in df.columns:\n",
    "#     col_type = df[col].dtypes\n",
    "\n",
    "#     if col_type == int or col_type == float:\n",
    "#         numerics.append(col)\n",
    "#     else:\n",
    "#         _num_unique = df[col].nunique()\n",
    "#         if _num_unique <= 2000:\n",
    "#             categorical.append(col)\n",
    "#         else:\n",
    "#             text.append(col)"
   ]
  },
  {
   "cell_type": "code",
   "execution_count": null,
   "metadata": {},
   "outputs": [],
   "source": []
  },
  {
   "cell_type": "code",
   "execution_count": 41,
   "metadata": {},
   "outputs": [],
   "source": [
    "# temp_combined = pd.concat([df[cate_cols], test_df[cate_cols]])\n",
    "# temp_combined = temp_combined.apply(lambda x: x.fillna(x.value_counts()[0]))\n",
    "# # one_hot = OneHotEncoder()\n",
    "# # one_hot.fit(temp_combined)\n",
    "# temp_combined.columns"
   ]
  },
  {
   "cell_type": "markdown",
   "metadata": {},
   "source": [
    "### categorical cols cleaning"
   ]
  },
  {
   "cell_type": "code",
   "execution_count": 649,
   "metadata": {},
   "outputs": [],
   "source": [
    "DF_LEN = 33538\n",
    "TESTDF_LEN = 17337\n",
    "# combine df and test_df for feature engineering\n",
    "def combine_df(df, test_df):\n",
    "    entire_df = pd.concat([df, test_df], ignore_index=True)\n",
    "    return entire_df\n",
    "\n",
    "def split(entire_df):\n",
    "    df = entire_df.iloc[:DF_LEN].copy()\n",
    "    test_df = entire_df.iloc[DF_LEN:].copy()\n",
    "    test_df.drop('price', axis=1, inplace=True)\n",
    "    return df, test_df\n",
    "\n",
    "entire_df = combine_df(df, test_df)"
   ]
  },
  {
   "cell_type": "code",
   "execution_count": 650,
   "metadata": {},
   "outputs": [],
   "source": [
    "def clean_extra_people(df):\n",
    "    df['extra_people'] = df['extra_people'].str.lstrip('$').astype(float)\n",
    "    return df\n",
    "\n",
    "entire_df = clean_extra_people(entire_df)\n",
    "\n",
    "\n",
    "# # replace property_type value_counts <= 10 to 'Other'\n",
    "# def replace_property_type(df):\n",
    "#     s = df['property_type'].value_counts()\n",
    "#     df['property_type'] = np.where(df['property_type'].isin(s.index[s > 5]),\n",
    "#                                    df['property_type'], 'Other')\n",
    "#     return df\n",
    "\n",
    "\n",
    "# df = replace_property_type(df)\n",
    "# test_df = replace_property_type(test_df)\n",
    "\n",
    "\n",
    "# replace host_neighbourhood value_counts <= 1 to 'Other'\n",
    "def replace_host_neighbourhood(df):\n",
    "    s = df['host_neighbourhood'].value_counts()\n",
    "    df['host_neighbourhood'] = np.where(\n",
    "        df['host_neighbourhood'].isin(s.index[s > 1]),\n",
    "        df['host_neighbourhood'], 'Other')\n",
    "    return df\n",
    "\n",
    "\n",
    "entire_df = replace_host_neighbourhood(entire_df)"
   ]
  },
  {
   "cell_type": "code",
   "execution_count": 419,
   "metadata": {},
   "outputs": [
    {
     "data": {
      "text/plain": [
       "f    49524\n",
       "t     1351\n",
       "Name: require_guest_phone_verification, dtype: int64"
      ]
     },
     "execution_count": 419,
     "metadata": {},
     "output_type": "execute_result"
    }
   ],
   "source": [
    "entire_df['require_guest_phone_verification'].value_counts()"
   ]
  },
  {
   "cell_type": "markdown",
   "metadata": {},
   "source": [
    "## a quick model"
   ]
  },
  {
   "cell_type": "code",
   "execution_count": 12,
   "metadata": {},
   "outputs": [],
   "source": [
    "# drop text + datetimelike columns and columns that has over 500 null values\n",
    "# def quick_drop(df):\n",
    "#     # drop text andd datetimelike columns\n",
    "#     df_copy = df.copy()\n",
    "#     df_copy.drop(text+datetimelike, axis=1, inplace=True)\n",
    "    \n",
    "#     # drop cols that has more than 500 null values\n",
    "#     null_cols = []\n",
    "#     for col in df_copy.columns:\n",
    "#         if df_copy[col].isnull().sum() > 500:\n",
    "#             df_copy.drop(col, axis=1, inplace=True)\n",
    "#         elif col in numerics:\n",
    "#             # fill null values with mean\n",
    "#             df_copy[col].fillna(df_copy[col].mean())\n",
    "        \n",
    "#     df_copy.dropna(inplace=True)\n",
    "#     return df_copy"
   ]
  },
  {
   "cell_type": "code",
   "execution_count": 226,
   "metadata": {},
   "outputs": [],
   "source": [
    "# quick_cleaned_df = quick_drop(df)"
   ]
  },
  {
   "cell_type": "code",
   "execution_count": 55,
   "metadata": {},
   "outputs": [],
   "source": [
    "# # quick feature transformation\n",
    "# def quick_feature_transformation(df):\n",
    "#     for col in df.columns:\n",
    "#         if col in categorical:\n",
    "#             _onehot_df = pd.get_dummies(df[[col]],prefix=col)\n",
    "#             df = pd.concat([df, _onehot_df], axis=1)\n",
    "#             df.drop(col, axis=1, inplace=True)\n",
    "#     return df\n",
    "# quick_cleaned_df = quick_feature_transformation(quick_cleaned_df)"
   ]
  },
  {
   "cell_type": "code",
   "execution_count": 88,
   "metadata": {},
   "outputs": [],
   "source": [
    "# # quick train val split\n",
    "# quick_X = quick_cleaned_df.drop('price', axis=1).copy()\n",
    "# quick_y = quick_cleaned_df['price']\n",
    "\n",
    "# def is_ascii(s):\n",
    "#     return all(ord(c) < 128 for c in s)\n",
    "\n",
    "# for col in quick_cleaned_df.columns:\n",
    "#     if not is_ascii(col):\n",
    "#         quick_cleaned_df.drop(col, axis=1, inplace=True)\n",
    "\n",
    "# quick_X_train, quick_X_test, quick_y_train, quick_y_test = train_test_split(\n",
    "#     quick_X, quick_y, test_size=0.3, random_state=42)"
   ]
  },
  {
   "cell_type": "code",
   "execution_count": 59,
   "metadata": {},
   "outputs": [],
   "source": [
    "# # build a quick RandomForest\n",
    "# def quick_rf_reg(X_train, y_train):\n",
    "#     rf_reg = RandomForestRegressor(verbose=1)\n",
    "\n",
    "#     params = {\n",
    "#         'n_estimators': np.arange(100, 500),\n",
    "#         'max_depth': np.arange(3, 8),\n",
    "#         'min_samples_split': np.arange(3, 10),\n",
    "#         'min_samples_leaf': np.arange(3, 10),\n",
    "#         'max_features': ['auto', None],\n",
    "#         'warm_start': [True, False],\n",
    "#         'bootstrap': [True, False]\n",
    "#     }\n",
    "\n",
    "#     reg = RandomizedSearchCV(rf_reg,\n",
    "#                              params,\n",
    "#                              scoring='neg_root_mean_squared_error',\n",
    "#                              n_jobs=-1,\n",
    "#                              verbose=2,\n",
    "#                              random_state=42)\n",
    "    \n",
    "#     # train \n",
    "#     reg.fit(X_train, y_train)\n",
    "    \n",
    "#     return reg"
   ]
  },
  {
   "cell_type": "code",
   "execution_count": null,
   "metadata": {},
   "outputs": [],
   "source": [
    "# quick_rf_randomCV = quick_rf_reg(quick_X_train, quick_y_train)"
   ]
  },
  {
   "cell_type": "code",
   "execution_count": 62,
   "metadata": {},
   "outputs": [
    {
     "data": {
      "text/plain": [
       "RandomForestRegressor(bootstrap=True, ccp_alpha=0.0, criterion='mse',\n",
       "                      max_depth=7, max_features='auto', max_leaf_nodes=None,\n",
       "                      max_samples=None, min_impurity_decrease=0.0,\n",
       "                      min_impurity_split=None, min_samples_leaf=5,\n",
       "                      min_samples_split=3, min_weight_fraction_leaf=0.0,\n",
       "                      n_estimators=790, n_jobs=None, oob_score=False,\n",
       "                      random_state=None, verbose=2, warm_start=True)"
      ]
     },
     "execution_count": 62,
     "metadata": {},
     "output_type": "execute_result"
    }
   ],
   "source": [
    "# quick_rf_randomCV.best_estimator_"
   ]
  },
  {
   "cell_type": "code",
   "execution_count": 74,
   "metadata": {},
   "outputs": [
    {
     "name": "stderr",
     "output_type": "stream",
     "text": [
      "[Parallel(n_jobs=1)]: Using backend SequentialBackend with 1 concurrent workers.\n",
      "[Parallel(n_jobs=1)]: Done   1 out of   1 | elapsed:    0.0s remaining:    0.0s\n",
      "[Parallel(n_jobs=1)]: Done 790 out of 790 | elapsed:    0.3s finished\n"
     ]
    }
   ],
   "source": [
    "# quick_y_pred = quick_rf_randomCV.predict(quick_X_test)"
   ]
  },
  {
   "cell_type": "code",
   "execution_count": 75,
   "metadata": {},
   "outputs": [
    {
     "data": {
      "text/plain": [
       "92.92274059385808"
      ]
     },
     "execution_count": 75,
     "metadata": {},
     "output_type": "execute_result"
    }
   ],
   "source": [
    "# rmse(quick_y_test, quick_y_pred)"
   ]
  },
  {
   "cell_type": "code",
   "execution_count": 98,
   "metadata": {},
   "outputs": [
    {
     "data": {
      "text/plain": [
       "LGBMRegressor(boosting_type='gbdt', class_weight=None, colsample_bytree=1.0,\n",
       "              importance_type='split', learning_rate=0.1, max_depth=6,\n",
       "              min_child_samples=4, min_child_weight=0.001, min_split_gain=0.0,\n",
       "              n_estimators=700, n_jobs=-1, num_leaves=31, objective=None,\n",
       "              random_state=None, reg_alpha=0.0, reg_lambda=0.0, silent=True,\n",
       "              subsample=1.0, subsample_for_bin=200000, subsample_freq=0)"
      ]
     },
     "execution_count": 98,
     "metadata": {},
     "output_type": "execute_result"
    }
   ],
   "source": [
    "# # lightbgm quick train\n",
    "# lgbm = LGBMRegressor(max_depth=6, min_child_samples=4, n_estimators=700)   \n",
    "# quick_X_train.columns = [\"\".join (c if c.isalnum() else \"_\" for c in str(x)) for x in quick_X_train.columns]\n",
    "# quick_X_test.columns = [\"\".join (c if c.isalnum() else \"_\" for c in str(x)) for x in quick_X_test.columns]\n",
    "# lgbm.fit(quick_X_train, quick_y_train)"
   ]
  },
  {
   "cell_type": "code",
   "execution_count": 99,
   "metadata": {},
   "outputs": [
    {
     "data": {
      "text/plain": [
       "89.82753925687697"
      ]
     },
     "execution_count": 99,
     "metadata": {},
     "output_type": "execute_result"
    }
   ],
   "source": [
    "# quick_y_pred = lgbm.predict(quick_X_test)\n",
    "# rmse(quick_y_test, quick_y_pred)"
   ]
  },
  {
   "cell_type": "code",
   "execution_count": null,
   "metadata": {},
   "outputs": [],
   "source": []
  },
  {
   "cell_type": "code",
   "execution_count": null,
   "metadata": {},
   "outputs": [],
   "source": []
  },
  {
   "cell_type": "code",
   "execution_count": null,
   "metadata": {},
   "outputs": [],
   "source": []
  },
  {
   "cell_type": "markdown",
   "metadata": {},
   "source": [
    "## Data Analysis"
   ]
  },
  {
   "cell_type": "markdown",
   "metadata": {},
   "source": [
    "### check shape"
   ]
  },
  {
   "cell_type": "code",
   "execution_count": 413,
   "metadata": {},
   "outputs": [
    {
     "data": {
      "text/plain": [
       "((33538, 58), (17337, 57), (50875, 58))"
      ]
     },
     "execution_count": 413,
     "metadata": {},
     "output_type": "execute_result"
    }
   ],
   "source": [
    "df.shape, test_df.shape, entire_df.shape"
   ]
  },
  {
   "cell_type": "markdown",
   "metadata": {},
   "source": [
    "### Numeric Analysis"
   ]
  },
  {
   "cell_type": "code",
   "execution_count": 619,
   "metadata": {
    "code_folding": []
   },
   "outputs": [],
   "source": [
    "# highly corelated cols\n",
    "high_corr = [\n",
    "    ['host_listings_count', 'calculated_host_listings_count'],\n",
    "    [\n",
    "        'review_scores_rating', 'review_scores_accuracy',\n",
    "        'review_scores_cleanliness', 'review_scores_communication',\n",
    "        'review_scores_communication', 'review_scores_value'\n",
    "    ], ['host_response_time', 'host_response_rate'],\n",
    "    ['neighbourhood_group_cleansed', 'neighbourhood_cleansed', 'zipcode'],\n",
    "    ['require_guest_phone_verification', 'require_guest_profile_picture']\n",
    "]\n",
    "\n",
    "num_cols = [\n",
    "    'calculated_host_listings_count', 'accommodates', 'bathrooms', 'bedrooms',\n",
    "    'beds', 'guests_included', 'minimum_nights', 'number_of_reviews',\n",
    "    'review_scores_rating', 'review_scores_cleanliness',\n",
    "    'review_scores_location', 'extra_people',\n",
    "]\n",
    "\n",
    "cate_cols = [\n",
    "    'host_is_superhost', 'property_type', 'room_type', 'bed_type',\n",
    "    'neighbourhood_group_cleansed', 'transit','host_identity_verified', \n",
    "]\n",
    "\n",
    "drop_obj_cols = ['host_location']\n",
    "\n",
    "drop_cate_cols = [\n",
    "    'city', 'state', 'country', 'market', 'maximum_nights',\n",
    "    'review_scores_accuracy', 'review_scores_communication',\n",
    "    'review_scores_checkin', 'host_neighbourhood', 'review_scores_value',\n",
    "    'host_has_profile_pic', 'require_guest_phone_verification',\n",
    "    'host_location', 'neighbourhood_cleansed','instant_bookable'\n",
    "]\n",
    "\n",
    "list_cols = ['amenities', 'host_verifications']\n",
    "\n",
    "date_cols = ['host_since', 'first_review', 'last_review']\n",
    "\n",
    "text_cols = [\n",
    "    'summary', 'space', 'description', 'neighborhood_overview', 'notes',\n",
    "    'transit', 'access', 'interaction', 'house_rules', 'host_about'\n",
    "]\n",
    "label = ['price']"
   ]
  },
  {
   "cell_type": "code",
   "execution_count": 620,
   "metadata": {},
   "outputs": [],
   "source": [
    "def featengi_bycol(df, colname, feat_lst): \n",
    "    gourp_cols = num_cols + [colname]\n",
    "    \n",
    "    if 'mean' in feat_lst:\n",
    "        temp_mean = df[gourp_cols].groupby([colname]).transform(lambda x: x.mean())\n",
    "        temp_mean = temp_mean.add_prefix(colname[:5]+'_mean_')\n",
    "        df = pd.concat([df, temp_mean], axis=1)\n",
    "        num_cols.extend(temp_mean.columns.values.tolist())\n",
    "    if 'std' in feat_lst:\n",
    "        temp_std = df[gourp_cols].groupby([colname]).transform(lambda x: x.std())\n",
    "        temp_std = temp_std.add_prefix(colname[:5] + '_std_')\n",
    "        df = pd.concat([df, temp_std], axis=1)\n",
    "        num_cols.extend(temp_std.columns.values.tolist())\n",
    "    if 'max' in feat_lst:\n",
    "        temp_max = df[gourp_cols].groupby([colname]).transform(lambda x: x.max())\n",
    "        temp_max = temp_max.add_prefix(colname[:5] + '_max_')\n",
    "        df = pd.concat([df, temp_max], axis=1)\n",
    "        num_cols.extend(temp_max.columns.values.tolist())\n",
    "    if 'min' in feat_lst:\n",
    "        temp_min = df[gourp_cols].groupby([colname]).transform(lambda x: x.min())\n",
    "        temp_min = temp_min.add_prefix(colname[:5] + '_min_')\n",
    "        df = pd.concat([df, temp_min], axis=1)\n",
    "        num_cols.extend(temp_min.columns.values.tolist())\n",
    "    if 'median' in feat_lst:\n",
    "        temp_median = df[gourp_cols].groupby([colname]).transform(lambda x: x.median())\n",
    "        temp_median = temp_median.add_prefix(colname[:5] + '_median_')\n",
    "        df = pd.concat([df, temp_median], axis=1)\n",
    "        num_cols.extend(temp_median.columns.values.tolist())\n",
    "    return df\n",
    "\n",
    "#entire_df = featengi_bycol(entire_df, 'neighbourhood_group_cleansed', ['mean','max','std'])\n",
    "entire_df = featengi_bycol(entire_df, 'neighbourhood_cleansed', ['mean','max'])\n",
    "# entire_df = featengi_bycol(entire_df, 'room_type')\n",
    "# entire_df = featengi_bycol(entire_df, 'property_type')\n"
   ]
  },
  {
   "cell_type": "code",
   "execution_count": 621,
   "metadata": {},
   "outputs": [],
   "source": [
    "def calculated_features(df):\n",
    "    # compute host_about length \n",
    "    # df['host_about_len'] = df['host_about'].str.len()\n",
    "    # df['host_about_len'] = df['host_about_len'].fillna(df['host_about_len'].mean())\n",
    "    # df['description_len'] = df['description'].str.len()\n",
    "    \n",
    "    # number of accommdates per beds\n",
    "    df['accom_per_beds'] = df['accommodates'] / df['beds']\n",
    "    df['accom_per_beds'] = df['accom_per_beds'].apply(lambda x: 4 if x == float('inf') else x)\n",
    "    # number of accommdates per bath\n",
    "    df['accom_per_bath'] = df['accommodates'] / df['bathrooms']\n",
    "    df['accom_per_bath'] = df['accom_per_bath'].apply(lambda x: 4 if x == float('inf') else x)\n",
    "    # number of beds per bedroom\n",
    "#     df['bed_per_bedrooms'] = df['beds'] / df['bedrooms']\n",
    "#     df['bed_per_bedrooms'] = df['bed_per_bedrooms'].apply(lambda x: 0 if x == float('inf') else x)\n",
    "    \n",
    "    \n",
    "    # host location 1 if local else 0\n",
    "    df['host_location'] = df['host_location'].str.contains('NY|New York|纽约|Brooklyn|Manhattan').astype('str')\n",
    "    df['transit'] = df['transit'].str.contains('Subway|Train|train|subway|Buses|buses').astype('str')\n",
    "    \n",
    "#     if 'host_about_len' not in num_cols:\n",
    "#         num_cols.append('host_about_len')\n",
    "    if 'accom_per_beds' not in num_cols:\n",
    "        num_cols.append('accom_per_beds')\n",
    "#     if 'description_len' not in num_cols:\n",
    "#         num_cols.append('description_len')\n",
    "    if 'accom_per_bath' not in num_cols:\n",
    "        num_cols.append('accom_per_bath')\n",
    "#     if 'bed_per_bedrooms' not in num_cols:\n",
    "#         num_cols.append('bed_per_bedrooms')\n",
    "    \n",
    "    df['accom_per_beds_ratio'] = df['accom_per_beds'].apply(lambda x: '1' if x <= 1. else '0')\n",
    "    if 'accom_per_beds_ratio' not in cate_cols:\n",
    "        cate_cols.append('accom_per_beds_ratio')\n",
    "        \n",
    "    bath_per_bed = df['bathrooms'] / df['beds']\n",
    "    df['bath_per_bed'] = bath_per_bed.apply(lambda x: '1' if x >= 1. else '0')\n",
    "    if 'bath_per_bed' not in cate_cols:\n",
    "        cate_cols.append('bath_per_bed')\n",
    "    \n",
    "    # extra people\n",
    "    df['extrra_ppl'] = df['accommodates'] - df['guests_included']\n",
    "    if 'extrra_ppl' not in num_cols:\n",
    "        num_cols.append('extrra_ppl')\n",
    "    \n",
    "    # night duration\n",
    "    df['nights_duration'] = df['maximum_nights'] - df['minimum_nights']\n",
    "    if 'nights_duration' not in num_cols:\n",
    "        num_cols.append('nights_duration')\n",
    "    \n",
    "    return df\n",
    "entire_df = calculated_features(entire_df)"
   ]
  },
  {
   "cell_type": "code",
   "execution_count": 622,
   "metadata": {},
   "outputs": [],
   "source": [
    "def fill_null(df):\n",
    "    # fill number of review 0\n",
    "    df['number_of_reviews'] = df['number_of_reviews'].fillna(0)\n",
    "    return df\n",
    "entire_df = fill_null(entire_df)"
   ]
  },
  {
   "cell_type": "code",
   "execution_count": 623,
   "metadata": {},
   "outputs": [],
   "source": [
    "# fill with mean grouoby neighbourhood_group_cleansed\n",
    "entire_df[num_cols] = entire_df[num_cols].fillna(\n",
    "    entire_df[num_cols + ['neighbourhood_group_cleansed']].groupby(\n",
    "        ['neighbourhood_group_cleansed'])[num_cols].transform('mean'))"
   ]
  },
  {
   "cell_type": "markdown",
   "metadata": {},
   "source": [
    "### timestamp"
   ]
  },
  {
   "cell_type": "code",
   "execution_count": 624,
   "metadata": {},
   "outputs": [],
   "source": [
    "# fill na in date cols\n",
    "def fillna_datetime(df):\n",
    "    temp = df.copy()\n",
    "    for col in date_cols:\n",
    "        '''\n",
    "        missing_date = list(temp[temp[col].isnull()].index)\n",
    "        mean_date = temp[col].drop(missing_date)\n",
    "        temp.loc[missing_date, col] = (mean_date - mean_date.min()).mean() + mean_date.min()\n",
    "        '''\n",
    "        df[col] = df[col].fillna(min(df[col]))\n",
    "\n",
    "    return temp\n",
    "\n",
    "entire_df = fillna_datetime(entire_df)\n",
    "\n",
    "def review_diff(df):\n",
    "    df['review_diff'] = (df['last_review'] - df['first_review']).apply(lambda x: x.days)\n",
    "    df['host_duration'] = (df['last_review'] - df['host_since']).apply(lambda x: x.days)\n",
    "    if 'review_diff' not in date_cols:\n",
    "        date_cols.extend(['review_diff', 'host_duration'])\n",
    "    return df\n",
    "\n",
    "#entire_df = review_diff(entire_df)"
   ]
  },
  {
   "cell_type": "markdown",
   "metadata": {},
   "source": [
    "### cate analysis"
   ]
  },
  {
   "cell_type": "code",
   "execution_count": null,
   "metadata": {},
   "outputs": [],
   "source": []
  },
  {
   "cell_type": "code",
   "execution_count": 625,
   "metadata": {},
   "outputs": [],
   "source": [
    "def host_verification(cols):\n",
    "    possible_words = {}\n",
    "    i = 0\n",
    "    for col in cols:\n",
    "        words = col.split()\n",
    "        for w in words:\n",
    "            wr = re.sub(r'\\W+', '', w)\n",
    "            if wr != '' and wr not in possible_words:\n",
    "                possible_words[wr] = i\n",
    "                i += 1\n",
    "    l = len(possible_words)\n",
    "\n",
    "    new_cols = np.zeros((cols.shape[0], l))\n",
    "    for i, col in enumerate(cols):\n",
    "        words = col.split()\n",
    "        arr = np.zeros(l)\n",
    "        for w in words:\n",
    "            wr = re.sub(r'\\W+', '', w)\n",
    "            if wr != '':\n",
    "                arr[possible_words[wr]] = 1\n",
    "        new_cols[i] = arr\n",
    "    return list(possible_words.keys()), new_cols\n",
    "host_veri_keys, host_veri = host_verification(df['host_verifications'])"
   ]
  },
  {
   "cell_type": "code",
   "execution_count": 626,
   "metadata": {},
   "outputs": [],
   "source": [
    "def amenities(cols):\n",
    "    dic = {}\n",
    "    i = 0\n",
    "    len_ameni = []\n",
    "    for col in cols:\n",
    "        arr = col.split(',')\n",
    "        cnt = 0\n",
    "        for a in arr:\n",
    "            ar = re.sub(r'\\W+', '', a)\n",
    "            if len(ar) > 0:\n",
    "                cnt += 1\n",
    "                if ar not in dic:\n",
    "                    dic[ar] = i\n",
    "                    i += 1\n",
    "        len_ameni.append(cnt)\n",
    "    l = len(dic)\n",
    "    new_cols = np.zeros((cols.shape[0], l))\n",
    "    for i, col in enumerate(cols):\n",
    "        words = col.split(',')\n",
    "        arr = np.zeros(l)\n",
    "        for w in words:\n",
    "            wr = re.sub(r'\\W+', '', w)\n",
    "            if wr != '':\n",
    "                arr[dic[wr]] = 1\n",
    "        new_cols[i] = arr\n",
    "    return list(dic.keys()), new_cols, len_ameni\n",
    "ameni_keys, ameni, len_ameni = amenities(df['amenities'])"
   ]
  },
  {
   "cell_type": "code",
   "execution_count": 627,
   "metadata": {},
   "outputs": [],
   "source": [
    "class ListTransformer(BaseEstimator, TransformerMixin):\n",
    "    def __init__(self, col_names=None):\n",
    "        self.col_names = col_names\n",
    "        self.useful_cols = [\n",
    "            'Airconditioning', 'Gym', 'Elevator', 'Washer', 'Dryer',\n",
    "            'Buildingstaff', 'TV', 'Paidparkingoffpremises',\n",
    "            'Familykidfriendly', 'Dishwasher', 'CableTV', 'Doorman', 'Crib',\n",
    "            'PacknPlaytravelcrib', 'Indoorfireplace'\n",
    "        ]\n",
    "        self.host_cols = [\n",
    "            'email', 'phone', 'reviews', 'jumio', 'government_id',\n",
    "            'manual_offline', 'facebook', 'kba', 'offline_government_id',\n",
    "            'sent_id', 'selfie', 'identity_manual', 'work_email', 'google',\n",
    "            'manual_online', 'sesame', 'weibo', 'None'\n",
    "        ]\n",
    "\n",
    "    def fit(self, X, y=None):\n",
    "        self.X_copy = X.copy()\n",
    "        if 'amenities' not in self.X_copy.columns:\n",
    "            raise \"Amenities is not in the dataset\"\n",
    "        else:\n",
    "            ameni_keys, ameni, len_ameni = amenities(self.X_copy['amenities'])\n",
    "            self.ameni_keys = ameni_keys\n",
    "            ameni = ameni.T\n",
    "            for ix, key in enumerate(ameni_keys):\n",
    "                if key in self.useful_cols:\n",
    "                    self.X_copy[key] = ameni[ix]\n",
    "            for use_col in self.useful_cols:\n",
    "                if use_col not in self.X_copy.columns:\n",
    "                    self.X_copy[use_col] = np.zeros(self.X_copy.shape[0])\n",
    "            self.X_copy['len_ameni'] = len_ameni\n",
    "            self.X_copy.drop('amenities', axis=1, inplace=True)\n",
    "\n",
    "        if 'host_verifications' not in self.X_copy.columns:\n",
    "            raise \"host_verifications is not in the dataset\"\n",
    "        else:\n",
    "            host_veri_keys, host_veri = host_verification(\n",
    "                self.X_copy['host_verifications'])\n",
    "            self.host_veri_keys = host_veri_keys\n",
    "            host_veri = host_veri.T\n",
    "            for ix, key in enumerate(self.host_cols):\n",
    "                if key in self.host_cols:\n",
    "                    self.X_copy[key] = host_veri[ix]\n",
    "            for use_col in self.host_cols:\n",
    "                if use_col not in self.X_copy.columns:\n",
    "                    self.X_copy[use_col] = np.zeros(self.X_copy.shape[0])\n",
    "            self.X_copy.drop('host_verifications', axis=1, inplace=True)\n",
    "\n",
    "        return self.X_copy.values\n",
    "\n",
    "    def transform(self, X, y=None):\n",
    "        X_temp = X.copy()\n",
    "        if 'amenities' not in X_temp.columns:\n",
    "            raise \"Amenities is not in the dataset\"\n",
    "        else:\n",
    "            ameni_keys, ameni, len_ameni = amenities(X_temp['amenities'])\n",
    "            ameni = ameni.T\n",
    "            for ix, key in enumerate(ameni_keys):\n",
    "                if key in self.useful_cols:\n",
    "                    X_temp[key] = ameni[ix]\n",
    "            for use_col in self.useful_cols:\n",
    "                if use_col not in X_temp.columns:\n",
    "                    X_temp[use_col] = np.zeros(X_temp.shape[0])\n",
    "            X_temp['len_ameni'] = len_ameni\n",
    "            X_temp.drop('amenities', axis=1, inplace=True)\n",
    "\n",
    "        if 'host_verifications' not in X_temp.columns:\n",
    "            raise \"host_verifications is not in the dataset\"\n",
    "        else:\n",
    "            host_veri_keys, host_veri = host_verification(\n",
    "                X_temp['host_verifications'])\n",
    "            host_veri = host_veri.T\n",
    "            for ix, key in enumerate(host_veri_keys):\n",
    "                if key in self.host_cols:\n",
    "                    X_temp[key] = host_veri[ix]\n",
    "            for key in self.host_cols:\n",
    "                if key not in X_temp.columns:\n",
    "                    X_temp[key] = np.zeros(X_temp.shape[0])\n",
    "            X_temp.drop('host_verifications', axis=1, inplace=True)\n",
    "\n",
    "        return X_temp.values\n",
    "\n",
    "    def fit_transform(self, X, y=None):\n",
    "        return self.fit(X)"
   ]
  },
  {
   "cell_type": "code",
   "execution_count": null,
   "metadata": {},
   "outputs": [],
   "source": []
  },
  {
   "cell_type": "markdown",
   "metadata": {},
   "source": [
    "### NLP analysis"
   ]
  },
  {
   "cell_type": "code",
   "execution_count": 21,
   "metadata": {},
   "outputs": [
    {
     "name": "stderr",
     "output_type": "stream",
     "text": [
      "[nltk_data] Downloading package wordnet to /Users/kailing/nltk_data...\n",
      "[nltk_data]   Package wordnet is already up-to-date!\n",
      "[nltk_data] Downloading package stopwords to\n",
      "[nltk_data]     /Users/kailing/nltk_data...\n",
      "[nltk_data]   Package stopwords is already up-to-date!\n"
     ]
    }
   ],
   "source": [
    "import nltk\n",
    "nltk.download('wordnet')\n",
    "nltk.download('stopwords')\n",
    "import string\n",
    "from nltk.stem import WordNetLemmatizer\n",
    "from nltk.corpus import wordnet as wn"
   ]
  },
  {
   "cell_type": "code",
   "execution_count": 22,
   "metadata": {},
   "outputs": [],
   "source": [
    "# define some common lingo\n",
    "custom_stopwords = ['bedroom', 'bathroom', 'apartment']\n",
    "\n",
    "def remove_hypens(book_text):\n",
    "    return re.sub(r'(\\w+)-(\\w+)-?(\\w)?', r'\\1 \\2 \\3', book_text)\n",
    "\n",
    "# tokenize text\n",
    "def tokenize_text(book_text):\n",
    "    TOKEN_PATTERN = r'\\s+'\n",
    "    regex_wt = nltk.RegexpTokenizer(pattern=TOKEN_PATTERN, gaps=True)\n",
    "    word_tokens = regex_wt.tokenize(book_text)\n",
    "    return word_tokens\n",
    "\n",
    "def remove_characters_after_tokenization(tokens):\n",
    "    pattern = re.compile('[{}]'.format(re.escape(string.punctuation))) \n",
    "    filtered_tokens = filter(None, [pattern.sub('', token) for token in tokens]) \n",
    "    return filtered_tokens\n",
    "\n",
    "def convert_to_lowercase(tokens):\n",
    "    return [token.lower() for token in tokens if token.isalpha()]\n",
    "\n",
    "def remove_stopwords(tokens, custom_stopwords):\n",
    "    stopword_list = nltk.corpus.stopwords.words('english')\n",
    "    stopword_list += custom_stopwords\n",
    "    filtered_tokens = [token for token in tokens if token not in stopword_list]\n",
    "    return filtered_tokens\n",
    "\n",
    "def get_lemma(tokens):\n",
    "    lemmas = []\n",
    "    for word in tokens:\n",
    "        lemma = wn.morphy(word)\n",
    "        if lemma is None:\n",
    "            lemmas.append(word)\n",
    "        else:\n",
    "            lemmas.append(lemma)\n",
    "    return lemmas\n",
    "\n",
    "def remove_short_tokens(tokens):\n",
    "    return [token for token in tokens if len(token) > 3]\n",
    "\n",
    "def keep_only_words_in_wordnet(tokens):\n",
    "    return [token for token in tokens if wn.synsets(token)]\n",
    "\n",
    "def apply_lemmatize(tokens, wnl=WordNetLemmatizer()):\n",
    "    return [wnl.lemmatize(token) for token in tokens]\n",
    "\n",
    "# I like to think of each row of text as a book\n",
    "# input to this function is a list of books\n",
    "def nlp_pipeline(book_texts):\n",
    "    clean_books = []\n",
    "    for book in book_texts:\n",
    "        try:\n",
    "            book = remove_hypens(book)\n",
    "            book_i = tokenize_text(book)\n",
    "            book_i = remove_characters_after_tokenization(book_i)\n",
    "            book_i = convert_to_lowercase(book_i)\n",
    "            book_i = remove_stopwords(book_i, custom_stopwords)\n",
    "            book_i = get_lemma(book_i)\n",
    "            book_i = remove_short_tokens(book_i)\n",
    "            book_i = keep_only_words_in_wordnet(book_i)\n",
    "            book_i = apply_lemmatize(book_i)\n",
    "            clean_books.append(book_i)\n",
    "        except:\n",
    "            clean_books.append('cannot clean')\n",
    "    return clean_books"
   ]
  },
  {
   "cell_type": "code",
   "execution_count": 23,
   "metadata": {},
   "outputs": [],
   "source": [
    "descriptions = list(entire_df.description)\n",
    "clean_descriptions = nlp_pipeline(descriptions)"
   ]
  },
  {
   "cell_type": "code",
   "execution_count": 24,
   "metadata": {},
   "outputs": [
    {
     "data": {
      "text/plain": [
       "['modern large studio amenity appliance floor brooklyn manhattan subway major subway close fort greene park center great restaurant available unit available building additional cost place little quiet sanctuary heart fort greene amaze view common area floor looking respectful guest treat home studio available almost identical slightly smaller rest information offering additional discount dishwasher internet roof access reception area breakfast common area depend time visit greet leave concierge brooklyn city point fort greene park prospect park amaze',\n",
       " 'harlem back gorgeous visit explore rare high floor bedroom triple offer space convenience heart harlem york city comfortably sleep people walking distance harlem back gorgeous visit explore rare high floor triple offer space convenience heart harlem york city comfortably sleep people harlem back gorgeous visit explore rare high floor triplex offer space convenience heart harlem york city private entrance triplex home comfortably sleep people space share enjoy home centrally locate fine restaurant shopping local bar live music metro transportation block away express train minute time square street perfect getaway']"
      ]
     },
     "execution_count": 24,
     "metadata": {},
     "output_type": "execute_result"
    }
   ],
   "source": [
    "# rejoin the tokens to form strings which will be used to vectorize\n",
    "clean_descriptions_text = [' '.join(item) for item in clean_descriptions]\n",
    "\n",
    "clean_descriptions_text[:2]"
   ]
  },
  {
   "cell_type": "code",
   "execution_count": 372,
   "metadata": {},
   "outputs": [],
   "source": [
    "# TF-IDF\n",
    "tfidf_vectorizer = TfidfVectorizer(min_df=10, max_df=0.95, max_features=20,\n",
    "                                   ngram_range=(1,1), stop_words='english')\n",
    "\n",
    "tfidf_feature_matrix = tfidf_vectorizer.fit_transform(clean_descriptions_text)\n",
    "\n",
    "tfidf_df = pd.DataFrame(tfidf_feature_matrix.toarray())\n",
    "entire_df = pd.concat([entire_df, tfidf_df], axis=1)"
   ]
  },
  {
   "cell_type": "code",
   "execution_count": 628,
   "metadata": {},
   "outputs": [],
   "source": [
    "lst_100 = list(np.arange(20))\n",
    "entire_df = pd.concat([entire_df, tfidf_df], axis=1)"
   ]
  },
  {
   "cell_type": "code",
   "execution_count": 629,
   "metadata": {},
   "outputs": [],
   "source": [
    "# split entire df\n",
    "df, test_df = split(entire_df)"
   ]
  },
  {
   "cell_type": "code",
   "execution_count": null,
   "metadata": {},
   "outputs": [],
   "source": []
  },
  {
   "cell_type": "markdown",
   "metadata": {},
   "source": [
    "## drop outliers"
   ]
  },
  {
   "cell_type": "code",
   "execution_count": 809,
   "metadata": {},
   "outputs": [
    {
     "data": {
      "text/plain": [
       "(33528, 74)"
      ]
     },
     "execution_count": 809,
     "metadata": {},
     "output_type": "execute_result"
    }
   ],
   "source": [
    "# 1. bathrooms > 6\n",
    "# 2. accommodate > 10 and price < 100\n",
    "# 3. guest_included > 10 andd price < 100\n",
    "drop_row_ix = []\n",
    "#ix1 = df[df['bathrooms'] > 6].index.values.tolist()\n",
    "#ix2 = df[(df['accommodates'] > 10) &  (df['price'] < 100)].index.values.tolist()\n",
    "#ix3 = df[(df['guests_included'] > 10) &  (df['price'] < 100)].index.values.tolist()\n",
    "#drop_row_ix = ix1#+ix2+ix3\n",
    "# df = df.drop(drop_row_ix)\n",
    "# df.shape"
   ]
  },
  {
   "cell_type": "code",
   "execution_count": 354,
   "metadata": {},
   "outputs": [
    {
     "data": {
      "text/plain": [
       "<matplotlib.axes._subplots.AxesSubplot at 0x1b90c6f40>"
      ]
     },
     "execution_count": 354,
     "metadata": {},
     "output_type": "execute_result"
    },
    {
     "data": {
      "image/png": "[encoded data removed]",
      "text/plain": [
       "<Figure size 432x288 with 1 Axes>"
      ]
     },
     "metadata": {},
     "output_type": "display_data"
    }
   ],
   "source": [
    "sns.distplot(y_train)"
   ]
  },
  {
   "cell_type": "code",
   "execution_count": 355,
   "metadata": {},
   "outputs": [
    {
     "data": {
      "text/plain": [
       "<matplotlib.axes._subplots.AxesSubplot at 0x15912a070>"
      ]
     },
     "execution_count": 355,
     "metadata": {},
     "output_type": "execute_result"
    },
    {
     "data": {
      "image/png": "[encoded data removed]",
      "text/plain": [
       "<Figure size 432x288 with 1 Axes>"
      ]
     },
     "metadata": {},
     "output_type": "display_data"
    }
   ],
   "source": [
    "sns.distplot(y_test)"
   ]
  },
  {
   "cell_type": "markdown",
   "metadata": {},
   "source": [
    "# Model Pipeline"
   ]
  },
  {
   "cell_type": "markdown",
   "metadata": {},
   "source": [
    "## feature transform"
   ]
  },
  {
   "cell_type": "code",
   "execution_count": 630,
   "metadata": {},
   "outputs": [],
   "source": [
    "numeric_transformer = Pipeline(\n",
    "    steps=[  #('imputer',SimpleImputer(strategy='median')), \n",
    "        ('scaler', MinMaxScaler())\n",
    "    ])\n",
    "categorical_transformer = Pipeline(\n",
    "    steps=[('imputer', SimpleImputer(strategy='constant', fill_value='_')\n",
    "            ), ('onehot', OneHotEncoder(handle_unknown='ignore'))])\n",
    "\n",
    "text_transformer = Pipeline(\n",
    "    steps=[('text', CountVectorizer()), ('svd',\n",
    "                                         TruncatedSVD(n_components=100))])\n",
    "\n",
    "column_transfomer = ColumnTransformer(transformers=[\n",
    "    ('num', numeric_transformer, num_cols),\n",
    "    ('cat', categorical_transformer, cate_cols),\n",
    "    ('date', MinMaxScaler(), date_cols),\n",
    "    #('log', FunctionTransformer(np.log1p), ['bedrooms']),\n",
    "    ('list', ListTransformer(), list_cols),\n",
    "], remainder='passthrough')\n",
    "\n",
    "# preprocessor = Pipeline(\n",
    "#     steps=[('cols_transformer',\n",
    "#             column_transfomer), ('pca', TruncatedSVD(n_components=500))])"
   ]
  },
  {
   "cell_type": "code",
   "execution_count": 631,
   "metadata": {},
   "outputs": [],
   "source": [
    "X = df[num_cols + cate_cols + date_cols + list_cols + lst_100]  #\n",
    "y = df.price\n",
    "\n",
    "X_train, X_test, y_train, y_test = train_test_split(X,\n",
    "                                                    y,\n",
    "                                                    test_size=0.1,\n",
    "                                                    random_state=10)\n",
    "\n",
    "X_train = column_transfomer.fit_transform(X_train)\n",
    "X_test = column_transfomer.transform(X_test)"
   ]
  },
  {
   "cell_type": "code",
   "execution_count": 121,
   "metadata": {},
   "outputs": [
    {
     "data": {
      "text/plain": [
       "TruncatedSVD(algorithm='randomized', n_components=140, n_iter=5,\n",
       "             random_state=42, tol=0.0)"
      ]
     },
     "execution_count": 121,
     "metadata": {},
     "output_type": "execute_result"
    }
   ],
   "source": [
    "# for testing\n",
    "temp_pca = TruncatedSVD(n_components=140, random_state=42)\n",
    "temp_pca.fit(X_train)"
   ]
  },
  {
   "cell_type": "code",
   "execution_count": 122,
   "metadata": {
    "scrolled": true
   },
   "outputs": [
    {
     "data": {
      "image/png": "[encoded data removed]",
      "text/plain": [
       "<Figure size 432x288 with 1 Axes>"
      ]
     },
     "metadata": {},
     "output_type": "display_data"
    },
    {
     "data": {
      "text/plain": [
       "None"
      ]
     },
     "metadata": {},
     "output_type": "display_data"
    }
   ],
   "source": [
    "sns.set(style='whitegrid')\n",
    "plt.plot(np.cumsum(temp_pca.explained_variance_ratio_))\n",
    "plt.xlabel('number of components')\n",
    "plt.ylabel('cumulative explained variance')\n",
    "#plt.axvline(linewidth=4, color='r', linestyle = '--', x=10, ymin=0, ymax=1)\n",
    "display(plt.show())"
   ]
  },
  {
   "cell_type": "code",
   "execution_count": 641,
   "metadata": {},
   "outputs": [
    {
     "data": {
      "text/plain": [
       "((30184, 118), (3354, 118))"
      ]
     },
     "execution_count": 641,
     "metadata": {},
     "output_type": "execute_result"
    }
   ],
   "source": [
    "X_train.shape, X_test.shape"
   ]
  },
  {
   "cell_type": "code",
   "execution_count": 640,
   "metadata": {},
   "outputs": [],
   "source": [
    "X_train = X_train[:, important_features_ix]\n",
    "X_test = X_test[:, important_features_ix]\n",
    "X_final = X_final[:, important_features_ix]"
   ]
  },
  {
   "cell_type": "code",
   "execution_count": null,
   "metadata": {},
   "outputs": [],
   "source": []
  },
  {
   "cell_type": "markdown",
   "metadata": {},
   "source": [
    "## lgbm"
   ]
  },
  {
   "cell_type": "code",
   "execution_count": 633,
   "metadata": {},
   "outputs": [],
   "source": [
    "def random_search_cv(reg, params):\n",
    "    random_reg = RandomizedSearchCV(reg,\n",
    "                              params,\n",
    "                              verbose=1,\n",
    "                              n_jobs=-1,\n",
    "                              scoring=\"neg_root_mean_squared_error\",\n",
    "                              cv=5,\n",
    "                              n_iter=10,\n",
    "                              refit=True,\n",
    "                              random_state=42)\n",
    "    return random_reg"
   ]
  },
  {
   "cell_type": "code",
   "execution_count": 634,
   "metadata": {},
   "outputs": [],
   "source": [
    "def lgbm_reg(X_train, y_train, X_test, y_test):\n",
    "    from numpy.random import randint\n",
    "    lgbm = LGBMRegressor(verbose=1, n_estimators=10000, learning_rate=0.01)\n",
    "\n",
    "    #train_data = lightgbm.Dataset(X_train, y_train)\n",
    "    #val_data = lightgbm.Dataset(X_test, y_test, reference=train_data)\n",
    "\n",
    "    params = {\n",
    "        \"num_leaves\": np.arange(10, 50),\n",
    "        'min_child_samples': np.arange(10, 50),\n",
    "        'min_child_weight': [1e-3, 1e-2, 1e-1, 1, 1e1, 1e2, 1e3],\n",
    "        'max_depth': np.arange(3, 10),\n",
    "        'subsample': uniform(loc=0.2, scale=0.8),\n",
    "        'colsample_bytree': uniform(loc=0.4, scale=0.6),\n",
    "        'reg_alpha': [0, 1e-1, 1, 2, 5, 7, 10, 50],\n",
    "        'reg_lambda': [0, 1e-1, 1, 5, 10, 20, 50, 100]\n",
    "    }\n",
    "\n",
    "    random_lgbm = random_search_cv(lgbm, params)\n",
    "    random_lgbm.fit(X_train,\n",
    "                    y_train,\n",
    "                    eval_set=(X_test, y_test),\n",
    "                    eval_metric='rmse',\n",
    "                    early_stopping_rounds=100,\n",
    "                    verbose=1)\n",
    "\n",
    "    return random_lgbm"
   ]
  },
  {
   "cell_type": "code",
   "execution_count": 127,
   "metadata": {
    "code_folding": []
   },
   "outputs": [],
   "source": [
    "def xgb_reg(X_train, y_train, X_test, y_test):\n",
    "    xgb = XGBRegressor(verbosity=1, n_estimators=5000)\n",
    "    params = {\n",
    "        \"max_depth\": np.arange(3, 10),\n",
    "        \"learning_rate\": [0.01, 0.05],\n",
    "        'min_child_weight': [1e-3, 1e-2, 1e-1, 1, 1e1, 1e2, 1e3],\n",
    "        \"gamma\": [0.1, 0.2, 0.3],\n",
    "        \"colsample_bytree\": [0.3, 0.4, 0.5, 0.7],\n",
    "        'max_delta_step': [1, 3 ,7],\n",
    "        'reg_alpha': [0, 1e-1, 1, 2, 5, 7, 10, 20, 50],\n",
    "        'reg_lambda': [0, 1e-1, 1, 5, 10, 20, 50, 100]\n",
    "    }\n",
    "\n",
    "    random_xgb = random_search_cv(xgb, params)\n",
    "    random_xgb.fit(X_train,\n",
    "                   y_train,\n",
    "                   eval_set= [(X_test, y_test)],\n",
    "                   eval_metric='rmse',\n",
    "                   early_stopping_rounds=100,\n",
    "                   verbose=1)\n",
    "\n",
    "    return random_xgb"
   ]
  },
  {
   "cell_type": "code",
   "execution_count": 25,
   "metadata": {
    "code_folding": [
     0
    ]
   },
   "outputs": [],
   "source": [
    "def knn_reg(X_train, y_train):\n",
    "    knn = KNeighborsRegressor()\n",
    "    params = {\n",
    "        \"n_neighbors\": np.arange(10, 200),\n",
    "        'algorithm': ['auto', 'kdtree'],\n",
    "        \"leaf_size\": np.arange(10, 100)\n",
    "    }\n",
    "    \n",
    "    random_knn = random_search_cv(knn, params)\n",
    "    random_knn.fit(X_train, y_train)\n",
    "    \n",
    "    return random_knn"
   ]
  },
  {
   "cell_type": "code",
   "execution_count": 128,
   "metadata": {
    "code_folding": []
   },
   "outputs": [],
   "source": [
    "def svr_reg(X_train, y_train):\n",
    "    svr = SVR(verbose=1)\n",
    "    params ={\n",
    "        \"C\": [0.01, 0.1, 1, 5, 10],\n",
    "        \"gamma\": ['scale', 'auto', 0.1, 1],\n",
    "        \n",
    "    }\n",
    "    \n",
    "    random_svr = random_search_cv(svr, params)\n",
    "    random_svr.fit(X_train, y_train)\n",
    "    \n",
    "    return random_svr"
   ]
  },
  {
   "cell_type": "code",
   "execution_count": 146,
   "metadata": {
    "code_folding": [
     0,
     12,
     25
    ]
   },
   "outputs": [],
   "source": [
    "def ridge_reg(X_train, y_train):\n",
    "    ridge = Ridge()\n",
    "    params = {\n",
    "        \"alpha\": [0.01, 0.1, 1, 5, 10, 100],\n",
    "        \"max_iter\": [1000, 10000]\n",
    "    }\n",
    "    \n",
    "    random_ridge = random_search_cv(ridge, params)\n",
    "    random_ridge.fit(X_train, y_train)\n",
    "    \n",
    "    return random_ridge\n",
    "\n",
    "def lasso_reg(X_train, y_train):\n",
    "    lasso = Lasso()\n",
    "    params = {\n",
    "        \"alpha\": [0.01, 0.1, 1, 5, 10, 100],\n",
    "        \"max_iter\": [10000, 100000],\n",
    "        \"warm_start\": [True, False]\n",
    "    }\n",
    "    \n",
    "    random_lasso = random_search_cv(lasso, params)\n",
    "    random_lasso.fit(X_train, y_train)\n",
    "    \n",
    "    return random_lasso\n",
    "\n",
    "def elastic_reg(X_train, y_train):\n",
    "    elasticNet = ElasticNet()\n",
    "    params = {\n",
    "        \"alpha\": [0.01, 0.1, 1, 5, 10, 100],\n",
    "        \"l1_ratio\": [0.1, 0.3, 0.5, 0.7, 0.9],\n",
    "        \"max_iter\": [1000, 10000],\n",
    "        \"warm_start\": [True, False]\n",
    "    }\n",
    "    \n",
    "    random_ElasticNet = random_search_cv(ElasticNet, params)\n",
    "    random_ElasticNet.fit(X_train, y_train)\n",
    "    \n",
    "    return random_ElasticNet"
   ]
  },
  {
   "cell_type": "code",
   "execution_count": 33,
   "metadata": {},
   "outputs": [],
   "source": [
    "def eval_model(model):\n",
    "    y_train_pred = model.predict(X_train)\n",
    "    y_val_pred = model.predict(X_test)\n",
    "    print(\"RMSE\")\n",
    "    print(\"Train RMSE: \" + str(rmse(y_train, y_train_pred)))\n",
    "    print(\"Test RMSE: \" + str(rmse(y_test, y_val_pred)))\n",
    "    print(\"Train R2: \" + str(r2_score(y_train, y_train_pred)))\n",
    "    print(\"Test R2: \" + str(r2_score(y_test, y_val_pred)))\n",
    "    try:\n",
    "        print(\"Best Params: \"+ str(model.best_params_))\n",
    "        print(\"Best Score: \" + str(model.best_score_))\n",
    "    except:\n",
    "        pass"
   ]
  },
  {
   "cell_type": "code",
   "execution_count": null,
   "metadata": {},
   "outputs": [],
   "source": [
    "#randSearch_lgbm = lgbm_reg(X_train, y_train, X_test, y_test)\n",
    "make_submission(randSearch_lgbm.predict(X_final))"
   ]
  },
  {
   "cell_type": "code",
   "execution_count": 643,
   "metadata": {
    "scrolled": true
   },
   "outputs": [
    {
     "name": "stdout",
     "output_type": "stream",
     "text": [
      "RMSE\n",
      "Train RMSE: 70.18518667273587\n",
      "Test RMSE: 74.46210619739587\n",
      "Train R2: 0.726954024922777\n",
      "Test R2: 0.6238972045236234\n",
      "Best Params: {'colsample_bytree': 0.6247240713084175, 'max_depth': 7, 'min_child_samples': 24, 'min_child_weight': 0.1, 'num_leaves': 17, 'reg_alpha': 5, 'reg_lambda': 10, 'subsample': 0.3248149123539492}\n",
      "Best Score: -84.3869780506419\n"
     ]
    }
   ],
   "source": [
    "eval_model(randSearch_lgbm)\n",
    "#rmse(np.expm1(y_test), np.expm1(randSearch_lgbm.predict(X_test)))"
   ]
  },
  {
   "cell_type": "code",
   "execution_count": 644,
   "metadata": {},
   "outputs": [
    {
     "data": {
      "text/plain": [
       "array([ 771, 1525, 1482, 1333,  460,  735, 1048,  926,  521,  279,  190,\n",
       "       1376,  617, 1052,  458,  384,  248,  315,  290,  211,  471,  347,\n",
       "        237,  243, 1449,  298,  314,  616,  555,  101,  151,   51,  140,\n",
       "        221,  226,  290,  110,  246,  604,  780,  783, 1220, 1003,   45,\n",
       "         39,  374,   51,   17,  156,   21,  124,   83,   11,  264,  232,\n",
       "        175,   43,    6,  110,   53,  127,   50,   59,   23,   48,   12,\n",
       "       1267,  963, 1385,   69,  237,  196,  262,  139,  110,  215,  258,\n",
       "        219,  165,   94,  225,  162,   80,   71, 1184,   29,   41,   78,\n",
       "         63,   48,   21,   14,   34,   25,  106,   28,   26,   59,  539,\n",
       "        123,  420,  377,  650,  209,  481,  499,  455,  292,   90,  240,\n",
       "        462,  641,  319,  661,  735,  318,  324,  215])"
      ]
     },
     "execution_count": 644,
     "metadata": {},
     "output_type": "execute_result"
    }
   ],
   "source": [
    "randSearch_lgbm.best_estimator_.feature_importances_"
   ]
  },
  {
   "cell_type": "code",
   "execution_count": 638,
   "metadata": {},
   "outputs": [
    {
     "data": {
      "text/plain": [
       "array([  0,   1,   2,   3,   4,   5,   6,   7,   8,   9,  10,  11,  12,\n",
       "        13,  14,  15,  16,  17,  18,  19,  20,  21,  22,  23,  24,  25,\n",
       "        26,  27,  28,  29,  30,  31,  32,  33,  34,  35,  39,  40,  41,\n",
       "        42,  43,  44,  45,  47,  48,  50,  59,  65,  68,  69,  70,  71,\n",
       "        75,  78,  79,  80,  82,  87,  88,  91,  92,  93,  95,  96,  99,\n",
       "       100, 101, 102, 103, 104, 105, 106, 107, 108, 109, 110, 111, 112,\n",
       "       113, 114, 115, 116, 117, 118, 119, 120, 121, 123, 124, 125, 126,\n",
       "       128, 129, 130, 131, 132, 133, 134, 138, 139, 140, 141, 142, 143,\n",
       "       144, 145, 146, 147, 148, 149, 150, 151, 152, 153, 154, 155, 156,\n",
       "       157])"
      ]
     },
     "execution_count": 638,
     "metadata": {},
     "output_type": "execute_result"
    }
   ],
   "source": [
    "a = randSearch_lgbm.best_estimator_.feature_importances_\n",
    "important_features_ix = np.where(a >= 10)[0]\n",
    "important_features_ix"
   ]
  },
  {
   "cell_type": "markdown",
   "metadata": {},
   "source": [
    "## stacking with multiple models"
   ]
  },
  {
   "cell_type": "code",
   "execution_count": null,
   "metadata": {},
   "outputs": [],
   "source": [
    "# xgboost\n",
    "randSearch_xgb = xgb_reg(X_train, y_train, X_test, y_test)"
   ]
  },
  {
   "cell_type": "code",
   "execution_count": 131,
   "metadata": {},
   "outputs": [
    {
     "name": "stdout",
     "output_type": "stream",
     "text": [
      "RMSE\n",
      "Train RMSE: 72.46335346481933\n",
      "Test RMSE: 75.96103282649044\n",
      "Train R2: 0.7089405413077235\n",
      "Test R2: 0.6086028571029886\n",
      "Best Params: {'reg_lambda': 5, 'reg_alpha': 20, 'min_child_weight': 0.1, 'max_depth': 7, 'max_delta_step': 7, 'learning_rate': 0.05, 'gamma': 0.1, 'colsample_bytree': 0.5}\n",
      "Best Score: -87.55622347768957\n"
     ]
    }
   ],
   "source": [
    "#save_model(randSearch_xgb, \"random_xgb\")\n",
    "#save_model(randSearch_xgb.best_estimator_, \"best_xgb\")\n",
    "eval_model(randSearch_xgb)"
   ]
  },
  {
   "cell_type": "code",
   "execution_count": 124,
   "metadata": {},
   "outputs": [
    {
     "name": "stdout",
     "output_type": "stream",
     "text": [
      "Fitting 5 folds for each of 10 candidates, totalling 50 fits\n"
     ]
    },
    {
     "name": "stderr",
     "output_type": "stream",
     "text": [
      "[Parallel(n_jobs=-1)]: Using backend LokyBackend with 8 concurrent workers.\n",
      "[Parallel(n_jobs=-1)]: Done  25 tasks      | elapsed:  2.4min\n",
      "[Parallel(n_jobs=-1)]: Done  50 out of  50 | elapsed:  5.3min finished\n"
     ]
    }
   ],
   "source": [
    "# knn\n",
    "randSearch_knn = knn_reg(X_train, y_train)"
   ]
  },
  {
   "cell_type": "code",
   "execution_count": 205,
   "metadata": {},
   "outputs": [
    {
     "name": "stdout",
     "output_type": "stream",
     "text": [
      "RMSE\n",
      "Train RMSE: 103.61813540311539\n",
      "Test RMSE: 108.76656329986805\n",
      "Best Params: {'weights': 'uniform', 'n_neighbors': 60, 'leaf_size': 12, 'algorithm': 'auto'}\n",
      "Best Score: -106.21092632843352\n"
     ]
    }
   ],
   "source": [
    "save_model(randSearch_knn, \"random_knn\")\n",
    "save_model(randSearch_knn.best_estimator_, \"best_knn\")\n",
    "# eval_model(randSearch_knn)"
   ]
  },
  {
   "cell_type": "code",
   "execution_count": 133,
   "metadata": {},
   "outputs": [
    {
     "name": "stdout",
     "output_type": "stream",
     "text": [
      "Fitting 5 folds for each of 10 candidates, totalling 50 fits\n"
     ]
    },
    {
     "name": "stderr",
     "output_type": "stream",
     "text": [
      "[Parallel(n_jobs=-1)]: Using backend LokyBackend with 8 concurrent workers.\n",
      "[Parallel(n_jobs=-1)]: Done  34 tasks      | elapsed: 20.7min\n",
      "[Parallel(n_jobs=-1)]: Done  50 out of  50 | elapsed: 27.0min finished\n"
     ]
    },
    {
     "name": "stdout",
     "output_type": "stream",
     "text": [
      "[LibSVM]"
     ]
    }
   ],
   "source": [
    "# SVR\n",
    "randSearch_svr = svr_reg(X_train, y_train)"
   ]
  },
  {
   "cell_type": "code",
   "execution_count": 134,
   "metadata": {},
   "outputs": [
    {
     "name": "stdout",
     "output_type": "stream",
     "text": [
      "RMSE\n",
      "Train RMSE: 108.31343288638355\n",
      "Test RMSE: 99.83071576581169\n",
      "Train R2: 0.3497063675103226\n",
      "Test R2: 0.3239725999006552\n",
      "Best Params: {'gamma': 0.1, 'C': 10}\n",
      "Best Score: -111.80537402326081\n"
     ]
    }
   ],
   "source": [
    "eval_model(randSearch_svr)"
   ]
  },
  {
   "cell_type": "code",
   "execution_count": 137,
   "metadata": {},
   "outputs": [
    {
     "name": "stdout",
     "output_type": "stream",
     "text": [
      "Fitting 5 folds for each of 10 candidates, totalling 50 fits\n"
     ]
    },
    {
     "name": "stderr",
     "output_type": "stream",
     "text": [
      "[Parallel(n_jobs=-1)]: Using backend LokyBackend with 8 concurrent workers.\n",
      "[Parallel(n_jobs=-1)]: Done  34 tasks      | elapsed:    4.7s\n",
      "[Parallel(n_jobs=-1)]: Done  50 out of  50 | elapsed:    5.5s finished\n"
     ]
    }
   ],
   "source": [
    "# ridge\n",
    "randSearch_ridge = ridge_reg(X_train, y_train)"
   ]
  },
  {
   "cell_type": "code",
   "execution_count": 138,
   "metadata": {},
   "outputs": [
    {
     "name": "stdout",
     "output_type": "stream",
     "text": [
      "RMSE\n",
      "Train RMSE: 92.21367222674715\n",
      "Test RMSE: 82.81840088023806\n",
      "Train R2: 0.528658700403937\n",
      "Test R2: 0.5347465417094214\n",
      "Best Params: {'max_iter': 1000, 'alpha': 0.1}\n",
      "Best Score: -93.65404439603972\n"
     ]
    }
   ],
   "source": [
    "eval_model(randSearch_ridge)"
   ]
  },
  {
   "cell_type": "code",
   "execution_count": 145,
   "metadata": {},
   "outputs": [
    {
     "name": "stdout",
     "output_type": "stream",
     "text": [
      "Fitting 5 folds for each of 10 candidates, totalling 50 fits\n"
     ]
    },
    {
     "name": "stderr",
     "output_type": "stream",
     "text": [
      "[Parallel(n_jobs=-1)]: Using backend LokyBackend with 8 concurrent workers.\n",
      "[Parallel(n_jobs=-1)]: Done  34 tasks      | elapsed:  1.4min\n",
      "[Parallel(n_jobs=-1)]: Done  50 out of  50 | elapsed:  2.2min finished\n"
     ]
    }
   ],
   "source": [
    "# lasso\n",
    "randSearch_lasso = lasso_reg(X_train, y_train)"
   ]
  },
  {
   "cell_type": "code",
   "execution_count": 147,
   "metadata": {},
   "outputs": [
    {
     "name": "stdout",
     "output_type": "stream",
     "text": [
      "RMSE\n",
      "Train RMSE: 92.38841852050194\n",
      "Test RMSE: 83.02268385141397\n",
      "Train R2: 0.5268706100958356\n",
      "Test R2: 0.5324484877370355\n",
      "Best Params: {'warm_start': True, 'max_iter': 10000, 'alpha': 0.01}\n",
      "Best Score: -93.51756846719118\n"
     ]
    }
   ],
   "source": [
    "eval_model(randSearch_lasso)"
   ]
  },
  {
   "cell_type": "code",
   "execution_count": null,
   "metadata": {},
   "outputs": [],
   "source": [
    "# elastic net\n",
    "randSearch_elastic = elastic_reg(X_train, y_train)"
   ]
  },
  {
   "cell_type": "code",
   "execution_count": null,
   "metadata": {},
   "outputs": [],
   "source": [
    "eval_model(randSearch_elastic)"
   ]
  },
  {
   "cell_type": "markdown",
   "metadata": {},
   "source": [
    "## Random forest"
   ]
  },
  {
   "cell_type": "code",
   "execution_count": 458,
   "metadata": {},
   "outputs": [],
   "source": [
    "def rf_reg(X_train, y_train):\n",
    "    rf_reg = RandomForestRegressor(verbose=1)\n",
    "\n",
    "    params = {\n",
    "        'n_estimators': np.arange(100, 500),\n",
    "        'max_depth': np.arange(3, 8),\n",
    "        'min_samples_split': np.arange(3, 10),\n",
    "        'min_samples_leaf': np.arange(3, 10),\n",
    "        'max_features': ['auto', None],\n",
    "        'warm_start': [True, False],\n",
    "        'bootstrap': [True, False]\n",
    "    }\n",
    "\n",
    "    reg = RandomizedSearchCV(rf_reg,\n",
    "                             params,\n",
    "                             scoring='neg_root_mean_squared_error',\n",
    "                             n_jobs=-1,\n",
    "                             verbose=2,\n",
    "                             random_state=42)\n",
    "    \n",
    "    # train \n",
    "    reg.fit(X_train, y_train)\n",
    "    \n",
    "    return reg"
   ]
  },
  {
   "cell_type": "code",
   "execution_count": 459,
   "metadata": {},
   "outputs": [
    {
     "name": "stdout",
     "output_type": "stream",
     "text": [
      "Fitting 5 folds for each of 10 candidates, totalling 50 fits\n"
     ]
    },
    {
     "name": "stderr",
     "output_type": "stream",
     "text": [
      "[Parallel(n_jobs=-1)]: Using backend LokyBackend with 8 concurrent workers.\n",
      "[Parallel(n_jobs=-1)]: Done  25 tasks      | elapsed:  4.4min\n",
      "[Parallel(n_jobs=-1)]: Done  50 out of  50 | elapsed:  6.9min finished\n",
      "[Parallel(n_jobs=1)]: Using backend SequentialBackend with 1 concurrent workers.\n",
      "[Parallel(n_jobs=1)]: Done 219 out of 219 | elapsed:   37.3s finished\n"
     ]
    }
   ],
   "source": [
    "randSearch_reg = rf_reg(X_train, y_train)"
   ]
  },
  {
   "cell_type": "markdown",
   "metadata": {},
   "source": [
    "## lgbm stacking"
   ]
  },
  {
   "cell_type": "code",
   "execution_count": 499,
   "metadata": {},
   "outputs": [],
   "source": [
    "def stacked_lgbm(X, y, num_lgbm=20):\n",
    "    def eval_model(model, y, y_pred):\n",
    "        print(\"RMSE: \" + str(rmse(y, y_pred)))\n",
    "        print(\"R2: \" + str(r2_score(y, y_pred)))\n",
    "       \n",
    "\n",
    "    y_preds = []\n",
    "    y_preds_final = []\n",
    "    for i in range(num_lgbm):\n",
    "        # split train test\n",
    "        X_train, X_val, y_train, y_val = train_test_split(X,\n",
    "                                                          y,\n",
    "                                                          test_size=0.2,\n",
    "                                                          random_state=i * 7)\n",
    "\n",
    "        X_train = column_transfomer.fit_transform(X_train)\n",
    "        X_val = column_transfomer.transform(X_val)\n",
    "        # X_ = column_transfomer.transform(X)\n",
    "        # X_test_ = column_transfomer.transform(X_test)\n",
    "\n",
    "        randSearch_lgbm = lgbm_reg(X_train, y_train, X_val, y_val)\n",
    "        print(\n",
    "            \"========================================================================\"\n",
    "        )\n",
    "        print(\"Model #\" + str(i))\n",
    "        y_train_pred = randSearch_lgbm.predict(X_train)\n",
    "        y_val_pred = randSearch_lgbm.predict(X_val)\n",
    "        print('Train: ')\n",
    "        print(eval_model(randSearch_lgbm, y_train, y_train_pred))\n",
    "        print('--------------------------')\n",
    "        print('Test: ')\n",
    "        print(eval_model(randSearch_lgbm, y_val, y_val_pred))\n",
    "        print(\n",
    "            \"========================================================================\"\n",
    "        )\n",
    "\n",
    "        # append results\n",
    "        X_final_ = column_transfomer.transform(test_df[num_cols + cate_cols +\n",
    "                                                        date_cols+ list_cols+ lst_100])\n",
    "        y_pred_final = randSearch_lgbm.predict(X_final_)\n",
    "        y_preds.append(y_train_pred)\n",
    "        #if rmse(y_val, y_val_pred) < 88:\n",
    "        y_preds_final.append(y_pred_final)\n",
    "\n",
    "    return np.array(y_preds).T, np.array(y_preds_final).T\n",
    "\n",
    "\n",
    "def lasso_meta(y, y_preds, y_preds_final):\n",
    "    # transpose y_preds\n",
    "    lasso_meta = Lasso()\n",
    "    lasso_meta.fit(y_preds, y)\n",
    "    Y_FINAL = lasso_meta.predict(y_preds_final)\n",
    "    return Y_FINAL, y_preds_final"
   ]
  },
  {
   "cell_type": "code",
   "execution_count": null,
   "metadata": {},
   "outputs": [],
   "source": [
    "y_preds, y_preds_final = stacked_lgbm(X, y, num_lgbm=3)"
   ]
  },
  {
   "cell_type": "code",
   "execution_count": 35,
   "metadata": {},
   "outputs": [],
   "source": [
    "below_88 = [0,1,3,4,9,11,12,16]"
   ]
  },
  {
   "cell_type": "code",
   "execution_count": null,
   "metadata": {},
   "outputs": [],
   "source": [
    "make_submission(y_preds_final.mean(axis=1))"
   ]
  },
  {
   "cell_type": "code",
   "execution_count": null,
   "metadata": {},
   "outputs": [],
   "source": [
    "y_preds_final_df = pd.DataFrame(y_preds_final)\n",
    "make_submission(y_preds_final_df.iloc[:, below_88].mean(axis=1))"
   ]
  },
  {
   "cell_type": "code",
   "execution_count": null,
   "metadata": {},
   "outputs": [],
   "source": []
  },
  {
   "cell_type": "markdown",
   "metadata": {},
   "source": [
    "## blending model"
   ]
  },
  {
   "cell_type": "code",
   "execution_count": 161,
   "metadata": {},
   "outputs": [],
   "source": [
    "'''\n",
    "    0.1 * Elastic\n",
    "    0.05 * Ridge\n",
    "    0.05 * Lass\n",
    "    0.1 * svr\n",
    "    0.1 * gbr\n",
    "    0.2 * xgb\n",
    "    0.4 * lgbm\n",
    "'''\n",
    "\n",
    "def blend_model():\n",
    "    pass\n",
    "\n",
    "y_pred_blend = 0 * randSearch_lasso.predict(X_final) + \\\n",
    "        0 * randSearch_ridge.predict(X_final) + \\\n",
    "        0.5  * randSearch_xgb.predict(X_final) + \\\n",
    "        0.5  * randSearch_lgbm.predict(X_final)\n",
    "\n",
    "#0.1*randSearch_elastic.predict(X_final) + /\n",
    "#0.1  * randSearch_svr.predict(x_final) + /\n",
    "#0.1  * gbr + /"
   ]
  },
  {
   "cell_type": "code",
   "execution_count": null,
   "metadata": {},
   "outputs": [],
   "source": [
    "make_submission(y_pred_blend)"
   ]
  },
  {
   "cell_type": "code",
   "execution_count": null,
   "metadata": {},
   "outputs": [],
   "source": []
  },
  {
   "cell_type": "markdown",
   "metadata": {},
   "source": [
    "## H2O automl"
   ]
  },
  {
   "cell_type": "code",
   "execution_count": 294,
   "metadata": {},
   "outputs": [
    {
     "name": "stdout",
     "output_type": "stream",
     "text": [
      "Parse progress: |█████████████████████████████████████████████████████████| 100%\n",
      "AutoML progress: |████████████████████████████████████████████████████████| 100%\n"
     ]
    }
   ],
   "source": [
    "# auto ml with 20 models\n",
    "autoML = H2OAutoML(max_models=20, seed=1)\n",
    "train = np.hstack([X_train, y_train.values.T.reshape(-1,1)])\n",
    "training_frame = h2o.H2OFrame(train)\n",
    "x = training_frame.columns[:-1]\n",
    "y = training_frame.columns[-1]\n",
    "autoML.train(x=x, y=y, training_frame=training_frame)"
   ]
  },
  {
   "cell_type": "code",
   "execution_count": 295,
   "metadata": {},
   "outputs": [
    {
     "data": {
      "text/html": [
       "<table>\n",
       "<thead>\n",
       "<tr><th>model_id                                           </th><th style=\"text-align: right;\">  mean_residual_deviance</th><th style=\"text-align: right;\">   rmse</th><th style=\"text-align: right;\">    mse</th><th style=\"text-align: right;\">    mae</th><th style=\"text-align: right;\">     rmsle</th></tr>\n",
       "</thead>\n",
       "<tbody>\n",
       "<tr><td>StackedEnsemble_AllModels_AutoML_20200516_180450   </td><td style=\"text-align: right;\">                 7390.34</td><td style=\"text-align: right;\">85.9671</td><td style=\"text-align: right;\">7390.34</td><td style=\"text-align: right;\">41.7507</td><td style=\"text-align: right;\">  0.384508</td></tr>\n",
       "<tr><td>StackedEnsemble_BestOfFamily_AutoML_20200516_180450</td><td style=\"text-align: right;\">                 7481.91</td><td style=\"text-align: right;\">86.498 </td><td style=\"text-align: right;\">7481.91</td><td style=\"text-align: right;\">42.1194</td><td style=\"text-align: right;\">  0.387467</td></tr>\n",
       "<tr><td>GBM_2_AutoML_20200516_180450                       </td><td style=\"text-align: right;\">                 7566.26</td><td style=\"text-align: right;\">86.9843</td><td style=\"text-align: right;\">7566.26</td><td style=\"text-align: right;\">42.7053</td><td style=\"text-align: right;\">nan       </td></tr>\n",
       "<tr><td>GBM_3_AutoML_20200516_180450                       </td><td style=\"text-align: right;\">                 7606.17</td><td style=\"text-align: right;\">87.2134</td><td style=\"text-align: right;\">7606.17</td><td style=\"text-align: right;\">43.003 </td><td style=\"text-align: right;\">  0.395771</td></tr>\n",
       "<tr><td>GBM_grid__1_AutoML_20200516_180450_model_2         </td><td style=\"text-align: right;\">                 7645.52</td><td style=\"text-align: right;\">87.4387</td><td style=\"text-align: right;\">7645.52</td><td style=\"text-align: right;\">43.2413</td><td style=\"text-align: right;\">nan       </td></tr>\n",
       "<tr><td>GBM_4_AutoML_20200516_180450                       </td><td style=\"text-align: right;\">                 7645.95</td><td style=\"text-align: right;\">87.4411</td><td style=\"text-align: right;\">7645.95</td><td style=\"text-align: right;\">42.9036</td><td style=\"text-align: right;\">  0.39519 </td></tr>\n",
       "<tr><td>GBM_1_AutoML_20200516_180450                       </td><td style=\"text-align: right;\">                 7697.43</td><td style=\"text-align: right;\">87.735 </td><td style=\"text-align: right;\">7697.43</td><td style=\"text-align: right;\">43.0636</td><td style=\"text-align: right;\">nan       </td></tr>\n",
       "<tr><td>GBM_grid__1_AutoML_20200516_180450_model_1         </td><td style=\"text-align: right;\">                 7706.24</td><td style=\"text-align: right;\">87.7852</td><td style=\"text-align: right;\">7706.24</td><td style=\"text-align: right;\">43.5269</td><td style=\"text-align: right;\">nan       </td></tr>\n",
       "<tr><td>GBM_5_AutoML_20200516_180450                       </td><td style=\"text-align: right;\">                 7788.24</td><td style=\"text-align: right;\">88.251 </td><td style=\"text-align: right;\">7788.24</td><td style=\"text-align: right;\">43.595 </td><td style=\"text-align: right;\">nan       </td></tr>\n",
       "<tr><td>XGBoost_grid__1_AutoML_20200516_180450_model_3     </td><td style=\"text-align: right;\">                 7876.02</td><td style=\"text-align: right;\">88.7469</td><td style=\"text-align: right;\">7876.02</td><td style=\"text-align: right;\">44.3512</td><td style=\"text-align: right;\">nan       </td></tr>\n",
       "</tbody>\n",
       "</table>"
      ]
     },
     "metadata": {},
     "output_type": "display_data"
    },
    {
     "data": {
      "text/plain": []
     },
     "execution_count": 295,
     "metadata": {},
     "output_type": "execute_result"
    }
   ],
   "source": [
    "autoML.leaderboard"
   ]
  },
  {
   "cell_type": "code",
   "execution_count": 308,
   "metadata": {},
   "outputs": [
    {
     "name": "stdout",
     "output_type": "stream",
     "text": [
      "Parse progress: |█████████████████████████████████████████████████████████| 100%\n",
      "Parse progress: |█████████████████████████████████████████████████████████| 100%\n"
     ]
    }
   ],
   "source": [
    "val = np.hstack([X_test, y_test.values.T.reshape(-1,1)])\n",
    "val_frame = h2o.H2OFrame(X_test)\n",
    "test_frame = h2o.H2OFrame(X_final)"
   ]
  },
  {
   "cell_type": "code",
   "execution_count": null,
   "metadata": {},
   "outputs": [],
   "source": []
  },
  {
   "cell_type": "markdown",
   "metadata": {},
   "source": [
    "## transform X final"
   ]
  },
  {
   "cell_type": "code",
   "execution_count": 639,
   "metadata": {},
   "outputs": [],
   "source": [
    "X_final = column_transfomer.transform(test_df[num_cols + cate_cols + date_cols+ list_cols + lst_100])"
   ]
  },
  {
   "cell_type": "code",
   "execution_count": null,
   "metadata": {},
   "outputs": [],
   "source": []
  },
  {
   "cell_type": "markdown",
   "metadata": {},
   "source": [
    "## Neural Networks"
   ]
  },
  {
   "cell_type": "code",
   "execution_count": null,
   "metadata": {},
   "outputs": [],
   "source": [
    "# Building the model\n",
    "nn2 = models.Sequential()\n",
    "nn2.add(layers.Dense(128, input_shape=(X_train.shape[1],), activation='relu'))\n",
    "nn2.add(layers.Dense(256, activation='relu'))\n",
    "nn2.add(layers.Dense(256, activation='relu'))\n",
    "nn2.add(layers.Dense(1, activation='linear'))\n",
    "\n",
    "# Compiling the model\n",
    "nn2.compile(loss='mean_squared_error',\n",
    "            optimizer='adam',\n",
    "            metrics=['mean_squared_error'])\n",
    "\n",
    "# Printing the model summary\n",
    "print(nn2.summary())\n",
    "\n",
    "# Visualising the neural network\n",
    "#SVG(model_to_dot(nn2, show_layer_names=False, show_shapes=True).create(prog='dot', format='svg'))\n",
    "\n",
    "# Training the model\n",
    "nn2_history = nn2.fit(X_train,\n",
    "                  y_train,\n",
    "                  epochs=20,\n",
    "                  batch_size=256,\n",
    "                  validation_split = 0.1)"
   ]
  },
  {
   "cell_type": "code",
   "execution_count": null,
   "metadata": {},
   "outputs": [],
   "source": [
    "eval_model(nn2)\n",
    "make_submission(nn2.predict(X_final).flatten())"
   ]
  },
  {
   "cell_type": "markdown",
   "metadata": {},
   "source": [
    "# test submission"
   ]
  },
  {
   "cell_type": "code",
   "execution_count": 35,
   "metadata": {},
   "outputs": [
    {
     "data": {
      "text/html": [
       "<div>\n",
       "<style scoped>\n",
       "    .dataframe tbody tr th:only-of-type {\n",
       "        vertical-align: middle;\n",
       "    }\n",
       "\n",
       "    .dataframe tbody tr th {\n",
       "        vertical-align: top;\n",
       "    }\n",
       "\n",
       "    .dataframe thead th {\n",
       "        text-align: right;\n",
       "    }\n",
       "</style>\n",
       "<table border=\"1\" class=\"dataframe\">\n",
       "  <thead>\n",
       "    <tr style=\"text-align: right;\">\n",
       "      <th></th>\n",
       "      <th>id</th>\n",
       "      <th>name</th>\n",
       "      <th>summary</th>\n",
       "      <th>space</th>\n",
       "      <th>description</th>\n",
       "      <th>experiences_offered</th>\n",
       "      <th>neighborhood_overview</th>\n",
       "      <th>notes</th>\n",
       "      <th>transit</th>\n",
       "      <th>access</th>\n",
       "      <th>...</th>\n",
       "      <th>review_scores_communication</th>\n",
       "      <th>review_scores_location</th>\n",
       "      <th>review_scores_value</th>\n",
       "      <th>instant_bookable</th>\n",
       "      <th>is_business_travel_ready</th>\n",
       "      <th>cancellation_policy</th>\n",
       "      <th>require_guest_profile_picture</th>\n",
       "      <th>require_guest_phone_verification</th>\n",
       "      <th>calculated_host_listings_count</th>\n",
       "      <th>reviews_per_month</th>\n",
       "    </tr>\n",
       "  </thead>\n",
       "  <tbody>\n",
       "    <tr>\n",
       "      <th>0</th>\n",
       "      <td>19307997</td>\n",
       "      <td>Super Lux 2BR in Downtown Manhattan</td>\n",
       "      <td>Prepare to be WOWED! This spectacularly bright...</td>\n",
       "      <td>Top of the line Wolf and Sub-Zero appliances, ...</td>\n",
       "      <td>Prepare to be WOWED! This spectacularly bright...</td>\n",
       "      <td>none</td>\n",
       "      <td>NaN</td>\n",
       "      <td>NaN</td>\n",
       "      <td>NaN</td>\n",
       "      <td>NaN</td>\n",
       "      <td>...</td>\n",
       "      <td>NaN</td>\n",
       "      <td>NaN</td>\n",
       "      <td>NaN</td>\n",
       "      <td>f</td>\n",
       "      <td>f</td>\n",
       "      <td>flexible</td>\n",
       "      <td>f</td>\n",
       "      <td>f</td>\n",
       "      <td>1</td>\n",
       "      <td>NaN</td>\n",
       "    </tr>\n",
       "  </tbody>\n",
       "</table>\n",
       "<p>1 rows × 64 columns</p>\n",
       "</div>"
      ],
      "text/plain": [
       "         id                                 name  \\\n",
       "0  19307997  Super Lux 2BR in Downtown Manhattan   \n",
       "\n",
       "                                             summary  \\\n",
       "0  Prepare to be WOWED! This spectacularly bright...   \n",
       "\n",
       "                                               space  \\\n",
       "0  Top of the line Wolf and Sub-Zero appliances, ...   \n",
       "\n",
       "                                         description experiences_offered  \\\n",
       "0  Prepare to be WOWED! This spectacularly bright...                none   \n",
       "\n",
       "  neighborhood_overview notes transit access  ... review_scores_communication  \\\n",
       "0                   NaN   NaN     NaN    NaN  ...                         NaN   \n",
       "\n",
       "  review_scores_location  review_scores_value instant_bookable  \\\n",
       "0                    NaN                  NaN                f   \n",
       "\n",
       "  is_business_travel_ready cancellation_policy require_guest_profile_picture  \\\n",
       "0                        f            flexible                             f   \n",
       "\n",
       "  require_guest_phone_verification calculated_host_listings_count  \\\n",
       "0                                f                              1   \n",
       "\n",
       "   reviews_per_month  \n",
       "0                NaN  \n",
       "\n",
       "[1 rows x 64 columns]"
      ]
     },
     "execution_count": 35,
     "metadata": {},
     "output_type": "execute_result"
    }
   ],
   "source": [
    "test_df = pd.read_csv('./data/test.csv', low_memory=False)\n",
    "test_df.head(1)"
   ]
  },
  {
   "cell_type": "code",
   "execution_count": 64,
   "metadata": {},
   "outputs": [],
   "source": [
    "def make_submission(y_test_pred):\n",
    "    from datetime import datetime\n",
    "    test_df = pd.read_csv('./data/test.csv', low_memory=False)\n",
    "    sub_df = pd.DataFrame({'Id': test_df['id'], 'Predicted': y_test_pred})\n",
    "    sub_path = './submission/sub_'+str(datetime.now())+'.csv'\n",
    "    sub_df.to_csv(sub_path, index=False)\n",
    "    return sub_df\n",
    "#make_submission(y_test_pred)"
   ]
  }
 ],
 "metadata": {
  "kernelspec": {
   "display_name": "Python 3",
   "language": "python",
   "name": "python3"
  },
  "language_info": {
   "codemirror_mode": {
    "name": "ipython",
    "version": 3
   },
   "file_extension": ".py",
   "mimetype": "text/x-python",
   "name": "python",
   "nbconvert_exporter": "python",
   "pygments_lexer": "ipython3",
   "version": "3.8.2"
  },
  "toc": {
   "base_numbering": 1,
   "nav_menu": {},
   "number_sections": true,
   "sideBar": true,
   "skip_h1_title": false,
   "title_cell": "Table of Contents",
   "title_sidebar": "Contents",
   "toc_cell": false,
   "toc_position": {
    "height": "calc(100% - 180px)",
    "left": "10px",
    "top": "150px",
    "width": "243px"
   },
   "toc_section_display": true,
   "toc_window_display": true
  },
  "varInspector": {
   "cols": {
    "lenName": 16,
    "lenType": 16,
    "lenVar": 40
   },
   "kernels_config": {
    "python": {
     "delete_cmd_postfix": "",
     "delete_cmd_prefix": "del ",
     "library": "var_list.py",
     "varRefreshCmd": "print(var_dic_list())"
    },
    "r": {
     "delete_cmd_postfix": ") ",
     "delete_cmd_prefix": "rm(",
     "library": "var_list.r",
     "varRefreshCmd": "cat(var_dic_list()) "
    }
   },
   "types_to_exclude": [
    "module",
    "function",
    "builtin_function_or_method",
    "instance",
    "_Feature"
   ],
   "window_display": false
  }
 },
 "nbformat": 4,
 "nbformat_minor": 4
}
